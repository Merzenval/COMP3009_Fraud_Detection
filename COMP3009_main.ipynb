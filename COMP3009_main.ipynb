{
 "cells": [
  {
   "cell_type": "code",
   "execution_count": 132,
   "metadata": {},
   "outputs": [],
   "source": [
    "import pandas as pd\n",
    "import numpy as np\n",
    "import matplotlib.pyplot as plt\n",
    "from sklearn.model_selection import train_test_split"
   ]
  },
  {
   "cell_type": "markdown",
   "metadata": {},
   "source": [
    "# 1st look at the data"
   ]
  },
  {
   "cell_type": "code",
   "execution_count": 133,
   "metadata": {},
   "outputs": [],
   "source": [
    "df = pd.read_excel('Assignment-2024-training-data-set.xlsx')"
   ]
  },
  {
   "cell_type": "code",
   "execution_count": 134,
   "metadata": {},
   "outputs": [
    {
     "data": {
      "text/html": [
       "<div>\n",
       "<style scoped>\n",
       "    .dataframe tbody tr th:only-of-type {\n",
       "        vertical-align: middle;\n",
       "    }\n",
       "\n",
       "    .dataframe tbody tr th {\n",
       "        vertical-align: top;\n",
       "    }\n",
       "\n",
       "    .dataframe thead th {\n",
       "        text-align: right;\n",
       "    }\n",
       "</style>\n",
       "<table border=\"1\" class=\"dataframe\">\n",
       "  <thead>\n",
       "    <tr style=\"text-align: right;\">\n",
       "      <th></th>\n",
       "      <th>dur</th>\n",
       "      <th>proto</th>\n",
       "      <th>service</th>\n",
       "      <th>state</th>\n",
       "      <th>spkts</th>\n",
       "      <th>dpkts</th>\n",
       "      <th>sbytes</th>\n",
       "      <th>dbytes</th>\n",
       "      <th>rate</th>\n",
       "      <th>sttl</th>\n",
       "      <th>...</th>\n",
       "      <th>ct_dst_sport_ltm</th>\n",
       "      <th>ct_dst_src_ltm</th>\n",
       "      <th>is_ftp_login</th>\n",
       "      <th>ct_ftp_cmd</th>\n",
       "      <th>ct_flw_http_mthd</th>\n",
       "      <th>ct_src_ltm</th>\n",
       "      <th>ct_srv_dst</th>\n",
       "      <th>is_sm_ips_ports</th>\n",
       "      <th>attack_cat</th>\n",
       "      <th>label</th>\n",
       "    </tr>\n",
       "  </thead>\n",
       "  <tbody>\n",
       "    <tr>\n",
       "      <th>0</th>\n",
       "      <td>0.000009</td>\n",
       "      <td>unas</td>\n",
       "      <td>-</td>\n",
       "      <td>INT</td>\n",
       "      <td>2</td>\n",
       "      <td>0</td>\n",
       "      <td>200</td>\n",
       "      <td>0</td>\n",
       "      <td>111111.1072</td>\n",
       "      <td>254</td>\n",
       "      <td>...</td>\n",
       "      <td>4</td>\n",
       "      <td>8</td>\n",
       "      <td>0</td>\n",
       "      <td>0</td>\n",
       "      <td>0</td>\n",
       "      <td>13</td>\n",
       "      <td>8</td>\n",
       "      <td>0</td>\n",
       "      <td>Analysis</td>\n",
       "      <td>1</td>\n",
       "    </tr>\n",
       "    <tr>\n",
       "      <th>1</th>\n",
       "      <td>0.000009</td>\n",
       "      <td>unas</td>\n",
       "      <td>-</td>\n",
       "      <td>INT</td>\n",
       "      <td>2</td>\n",
       "      <td>0</td>\n",
       "      <td>200</td>\n",
       "      <td>0</td>\n",
       "      <td>111111.1072</td>\n",
       "      <td>254</td>\n",
       "      <td>...</td>\n",
       "      <td>2</td>\n",
       "      <td>7</td>\n",
       "      <td>0</td>\n",
       "      <td>0</td>\n",
       "      <td>0</td>\n",
       "      <td>11</td>\n",
       "      <td>7</td>\n",
       "      <td>0</td>\n",
       "      <td>Analysis</td>\n",
       "      <td>1</td>\n",
       "    </tr>\n",
       "    <tr>\n",
       "      <th>2</th>\n",
       "      <td>0.000008</td>\n",
       "      <td>unas</td>\n",
       "      <td>-</td>\n",
       "      <td>INT</td>\n",
       "      <td>2</td>\n",
       "      <td>0</td>\n",
       "      <td>200</td>\n",
       "      <td>0</td>\n",
       "      <td>125000.0003</td>\n",
       "      <td>254</td>\n",
       "      <td>...</td>\n",
       "      <td>2</td>\n",
       "      <td>7</td>\n",
       "      <td>0</td>\n",
       "      <td>0</td>\n",
       "      <td>0</td>\n",
       "      <td>5</td>\n",
       "      <td>7</td>\n",
       "      <td>0</td>\n",
       "      <td>Analysis</td>\n",
       "      <td>1</td>\n",
       "    </tr>\n",
       "    <tr>\n",
       "      <th>3</th>\n",
       "      <td>0.000008</td>\n",
       "      <td>unas</td>\n",
       "      <td>-</td>\n",
       "      <td>INT</td>\n",
       "      <td>2</td>\n",
       "      <td>0</td>\n",
       "      <td>200</td>\n",
       "      <td>0</td>\n",
       "      <td>125000.0003</td>\n",
       "      <td>254</td>\n",
       "      <td>...</td>\n",
       "      <td>2</td>\n",
       "      <td>8</td>\n",
       "      <td>0</td>\n",
       "      <td>0</td>\n",
       "      <td>0</td>\n",
       "      <td>7</td>\n",
       "      <td>8</td>\n",
       "      <td>0</td>\n",
       "      <td>Analysis</td>\n",
       "      <td>1</td>\n",
       "    </tr>\n",
       "    <tr>\n",
       "      <th>4</th>\n",
       "      <td>0.000008</td>\n",
       "      <td>unas</td>\n",
       "      <td>-</td>\n",
       "      <td>INT</td>\n",
       "      <td>2</td>\n",
       "      <td>0</td>\n",
       "      <td>200</td>\n",
       "      <td>0</td>\n",
       "      <td>125000.0003</td>\n",
       "      <td>254</td>\n",
       "      <td>...</td>\n",
       "      <td>6</td>\n",
       "      <td>8</td>\n",
       "      <td>0</td>\n",
       "      <td>0</td>\n",
       "      <td>0</td>\n",
       "      <td>23</td>\n",
       "      <td>8</td>\n",
       "      <td>0</td>\n",
       "      <td>Analysis</td>\n",
       "      <td>1</td>\n",
       "    </tr>\n",
       "  </tbody>\n",
       "</table>\n",
       "<p>5 rows × 44 columns</p>\n",
       "</div>"
      ],
      "text/plain": [
       "        dur proto service state  spkts  dpkts  sbytes  dbytes         rate  \\\n",
       "0  0.000009  unas       -   INT      2      0     200       0  111111.1072   \n",
       "1  0.000009  unas       -   INT      2      0     200       0  111111.1072   \n",
       "2  0.000008  unas       -   INT      2      0     200       0  125000.0003   \n",
       "3  0.000008  unas       -   INT      2      0     200       0  125000.0003   \n",
       "4  0.000008  unas       -   INT      2      0     200       0  125000.0003   \n",
       "\n",
       "   sttl  ...  ct_dst_sport_ltm  ct_dst_src_ltm  is_ftp_login  ct_ftp_cmd  \\\n",
       "0   254  ...                 4               8             0           0   \n",
       "1   254  ...                 2               7             0           0   \n",
       "2   254  ...                 2               7             0           0   \n",
       "3   254  ...                 2               8             0           0   \n",
       "4   254  ...                 6               8             0           0   \n",
       "\n",
       "   ct_flw_http_mthd  ct_src_ltm  ct_srv_dst  is_sm_ips_ports  attack_cat  \\\n",
       "0                 0          13           8                0    Analysis   \n",
       "1                 0          11           7                0    Analysis   \n",
       "2                 0           5           7                0    Analysis   \n",
       "3                 0           7           8                0    Analysis   \n",
       "4                 0          23           8                0    Analysis   \n",
       "\n",
       "   label  \n",
       "0      1  \n",
       "1      1  \n",
       "2      1  \n",
       "3      1  \n",
       "4      1  \n",
       "\n",
       "[5 rows x 44 columns]"
      ]
     },
     "execution_count": 134,
     "metadata": {},
     "output_type": "execute_result"
    }
   ],
   "source": [
    "df.head()"
   ]
  },
  {
   "cell_type": "code",
   "execution_count": 135,
   "metadata": {},
   "outputs": [
    {
     "name": "stdout",
     "output_type": "stream",
     "text": [
      "<class 'pandas.core.frame.DataFrame'>\n",
      "RangeIndex: 145854 entries, 0 to 145853\n",
      "Data columns (total 44 columns):\n",
      " #   Column             Non-Null Count   Dtype  \n",
      "---  ------             --------------   -----  \n",
      " 0   dur                145854 non-null  float64\n",
      " 1   proto              145854 non-null  object \n",
      " 2   service            145854 non-null  object \n",
      " 3   state              145854 non-null  object \n",
      " 4   spkts              145854 non-null  int64  \n",
      " 5   dpkts              145854 non-null  int64  \n",
      " 6   sbytes             145854 non-null  int64  \n",
      " 7   dbytes             145854 non-null  int64  \n",
      " 8   rate               145854 non-null  float64\n",
      " 9   sttl               145854 non-null  int64  \n",
      " 10  dttl               145854 non-null  int64  \n",
      " 11  sload              145854 non-null  float64\n",
      " 12  dload              145854 non-null  float64\n",
      " 13  sloss              145854 non-null  int64  \n",
      " 14  dloss              145854 non-null  int64  \n",
      " 15  sinpkt             145854 non-null  float64\n",
      " 16  dinpkt             145854 non-null  float64\n",
      " 17  sjit               145854 non-null  float64\n",
      " 18  djit               145854 non-null  float64\n",
      " 19  swin               145854 non-null  int64  \n",
      " 20  stcpb              145854 non-null  int64  \n",
      " 21  dtcpb              145854 non-null  int64  \n",
      " 22  dwin               145854 non-null  int64  \n",
      " 23  tcprtt             145854 non-null  float64\n",
      " 24  synack             145854 non-null  float64\n",
      " 25  ackdat             145854 non-null  float64\n",
      " 26  smean              145854 non-null  int64  \n",
      " 27  dmean              145854 non-null  int64  \n",
      " 28  trans_depth        145854 non-null  int64  \n",
      " 29  response_body_len  145854 non-null  int64  \n",
      " 30  ct_srv_src         145854 non-null  int64  \n",
      " 31  ct_state_ttl       145854 non-null  int64  \n",
      " 32  ct_dst_ltm         145854 non-null  int64  \n",
      " 33  ct_src_dport_ltm   145854 non-null  int64  \n",
      " 34  ct_dst_sport_ltm   145854 non-null  int64  \n",
      " 35  ct_dst_src_ltm     145854 non-null  int64  \n",
      " 36  is_ftp_login       145854 non-null  int64  \n",
      " 37  ct_ftp_cmd         145854 non-null  int64  \n",
      " 38  ct_flw_http_mthd   145854 non-null  int64  \n",
      " 39  ct_src_ltm         145854 non-null  int64  \n",
      " 40  ct_srv_dst         145854 non-null  int64  \n",
      " 41  is_sm_ips_ports    145854 non-null  int64  \n",
      " 42  attack_cat         145854 non-null  object \n",
      " 43  label              145854 non-null  int64  \n",
      "dtypes: float64(11), int64(29), object(4)\n",
      "memory usage: 49.0+ MB\n"
     ]
    }
   ],
   "source": [
    "df.info()"
   ]
  },
  {
   "cell_type": "code",
   "execution_count": 136,
   "metadata": {},
   "outputs": [
    {
     "name": "stdout",
     "output_type": "stream",
     "text": [
      "145854\n",
      "44\n"
     ]
    }
   ],
   "source": [
    "print(df.shape[0])\n",
    "print(df.shape[1])"
   ]
  },
  {
   "cell_type": "markdown",
   "metadata": {},
   "source": [
    "# Irrelevant attributes"
   ]
  },
  {
   "cell_type": "markdown",
   "metadata": {},
   "source": [
    "## rate\n",
    "no info on the data"
   ]
  },
  {
   "cell_type": "code",
   "execution_count": 137,
   "metadata": {},
   "outputs": [
    {
     "data": {
      "image/png": "[encoded data removed]",
      "text/plain": [
       "<Figure size 640x480 with 1 Axes>"
      ]
     },
     "metadata": {},
     "output_type": "display_data"
    }
   ],
   "source": [
    "plt.hist(df.rate);\n",
    "# have no idea"
   ]
  },
  {
   "cell_type": "code",
   "execution_count": 138,
   "metadata": {},
   "outputs": [
    {
     "data": {
      "image/png": "[encoded data removed]",
      "text/plain": [
       "<Figure size 640x480 with 1 Axes>"
      ]
     },
     "metadata": {},
     "output_type": "display_data"
    }
   ],
   "source": [
    "plt.scatter(df.rate,df.label);"
   ]
  },
  {
   "cell_type": "markdown",
   "metadata": {},
   "source": [
    "## protocol"
   ]
  },
  {
   "cell_type": "code",
   "execution_count": 139,
   "metadata": {},
   "outputs": [
    {
     "data": {
      "text/plain": [
       "array(['unas', 'ib', 'ospf', 'sctp', 'gmtp', 'scps', 'tcp', 'smp', 'isis',\n",
       "       'ipnip', 'st2', 'bbn-rcc', 'igp', 'irtp', '3pc', 'tp++', 'il',\n",
       "       'sdrp', 'skip', 'pup', 'trunk-1', 'sat-mon', 'cpnx', 'ipv6',\n",
       "       'ipv6-frag', 'swipe', 'secure-vmtp', 'narp', 'ipv6-no',\n",
       "       'ipv6-opts', 'mtp', 'any', 'gre', 'nvp', 'leaf-1', 'argus', 'prm',\n",
       "       'xns-idp', 'rdp', 'mfe-nsp', 'ipv6-route', 'sat-expak', 'ggp',\n",
       "       'ip', 'pvp', 'chaos', 'egp', 'leaf-2', 'netblt', 'idpr', 'ddp',\n",
       "       'rsvp', 'i-nlsp', 'ippc', 'etherip', 'pri-enc', 'dgp', 'qnx',\n",
       "       'nsfnet-igp', 'tcf', 'pgm', 'zero', 'iso-ip', 'vmtp', 'ttp',\n",
       "       'ipx-n-ip', 'vrrp', 'crtp', 'crudp', 'emcon', 'ddx', 'xnet', 'uti',\n",
       "       'trunk-2', 'iso-tp4', 'compaq-peer', 'l2tp', 'ipcv', 'tlsp',\n",
       "       'wb-mon', 'sm', 'wb-expak', 'mux', 'eigrp', 'larp', 'fc',\n",
       "       'merit-inp', 'pnni', 'idpr-cmtp', 'idrp', 'a/n', 'mhrp', 'rvd',\n",
       "       'cftp', 'vines', 'iatp', 'visa', 'cphb', 'ptp', 'ax.25',\n",
       "       'sccopmce', 'kryptolan', 'micp', 'ipip', 'aes-sp3-d', 'ifmp',\n",
       "       'snp', 'sprite-rpc', 'ipcomp', 'br-sat-mon', 'encap', 'srp',\n",
       "       'fire', 'aris', 'stp', 'pim', 'iplt', 'sps', 'pipe', 'cbt', 'dcn',\n",
       "       'hmp', 'sep', 'mobile', 'wsn', 'sun-nd', 'xtp', 'bna', 'udp',\n",
       "       'arp', 'icmp', 'igmp', 'rtp'], dtype=object)"
      ]
     },
     "execution_count": 139,
     "metadata": {},
     "output_type": "execute_result"
    }
   ],
   "source": [
    "df.proto.unique()\n",
    "# i just dont think it useful"
   ]
  },
  {
   "cell_type": "markdown",
   "metadata": {},
   "source": [
    "## service"
   ]
  },
  {
   "cell_type": "code",
   "execution_count": 140,
   "metadata": {},
   "outputs": [
    {
     "data": {
      "text/plain": [
       "array(['-', 'http', 'smtp', 'ftp', 'irc', 'pop3', 'ftp-data', 'dhcp',\n",
       "       'ssl', 'dns', 'snmp', 'ssh', 'radius'], dtype=object)"
      ]
     },
     "execution_count": 140,
     "metadata": {},
     "output_type": "execute_result"
    }
   ],
   "source": [
    "df.service.unique()"
   ]
  },
  {
   "cell_type": "markdown",
   "metadata": {},
   "source": [
    "## state"
   ]
  },
  {
   "cell_type": "code",
   "execution_count": 141,
   "metadata": {},
   "outputs": [
    {
     "data": {
      "text/plain": [
       "array(['INT', 'CON', 'FIN', 'REQ', 'RST', 'ECO', 'PAR', 'URN', 'no'],\n",
       "      dtype=object)"
      ]
     },
     "execution_count": 141,
     "metadata": {},
     "output_type": "execute_result"
    }
   ],
   "source": [
    "df.state.unique()"
   ]
  },
  {
   "cell_type": "markdown",
   "metadata": {},
   "source": [
    "## attack_cat: normal  = 1 ?"
   ]
  },
  {
   "cell_type": "code",
   "execution_count": 142,
   "metadata": {},
   "outputs": [
    {
     "data": {
      "text/plain": [
       "array(['Analysis', 'Backdoor', 'Exploits', 'Fuzzers', 'Generic', 'Normal',\n",
       "       'Reconnaissance', 'Shellcode', 'Worms'], dtype=object)"
      ]
     },
     "execution_count": 142,
     "metadata": {},
     "output_type": "execute_result"
    }
   ],
   "source": [
    "df.attack_cat.unique()"
   ]
  },
  {
   "cell_type": "code",
   "execution_count": 143,
   "metadata": {},
   "outputs": [
    {
     "name": "stdout",
     "output_type": "stream",
     "text": [
      "[0]\n",
      "[1]\n"
     ]
    }
   ],
   "source": [
    "print(df.label.loc[df.attack_cat == \"Normal\"].unique())\n",
    "#yep\n",
    "print(df.label.loc[df.attack_cat != \"Normal\"].unique())"
   ]
  },
  {
   "cell_type": "markdown",
   "metadata": {},
   "source": [
    "# Missing entries"
   ]
  },
  {
   "cell_type": "code",
   "execution_count": 144,
   "metadata": {},
   "outputs": [
    {
     "data": {
      "text/plain": [
       "dur                  0\n",
       "proto                0\n",
       "service              0\n",
       "state                0\n",
       "spkts                0\n",
       "dpkts                0\n",
       "sbytes               0\n",
       "dbytes               0\n",
       "rate                 0\n",
       "sttl                 0\n",
       "dttl                 0\n",
       "sload                0\n",
       "dload                0\n",
       "sloss                0\n",
       "dloss                0\n",
       "sinpkt               0\n",
       "dinpkt               0\n",
       "sjit                 0\n",
       "djit                 0\n",
       "swin                 0\n",
       "stcpb                0\n",
       "dtcpb                0\n",
       "dwin                 0\n",
       "tcprtt               0\n",
       "synack               0\n",
       "ackdat               0\n",
       "smean                0\n",
       "dmean                0\n",
       "trans_depth          0\n",
       "response_body_len    0\n",
       "ct_srv_src           0\n",
       "ct_state_ttl         0\n",
       "ct_dst_ltm           0\n",
       "ct_src_dport_ltm     0\n",
       "ct_dst_sport_ltm     0\n",
       "ct_dst_src_ltm       0\n",
       "is_ftp_login         0\n",
       "ct_ftp_cmd           0\n",
       "ct_flw_http_mthd     0\n",
       "ct_src_ltm           0\n",
       "ct_srv_dst           0\n",
       "is_sm_ips_ports      0\n",
       "attack_cat           0\n",
       "label                0\n",
       "dtype: int64"
      ]
     },
     "execution_count": 144,
     "metadata": {},
     "output_type": "execute_result"
    }
   ],
   "source": [
    "df.isnull().sum()  #couldn't find from function"
   ]
  },
  {
   "cell_type": "code",
   "execution_count": 145,
   "metadata": {},
   "outputs": [
    {
     "name": "stdout",
     "output_type": "stream",
     "text": [
      "dur\n",
      "[9.00000e-06 8.00000e-06 7.00000e-06 ... 8.73450e+00 6.05943e-01\n",
      " 2.58671e-01]\n",
      "proto\n",
      "['unas' 'ib' 'ospf' 'sctp' 'gmtp' 'scps' 'tcp' 'smp' 'isis' 'ipnip' 'st2'\n",
      " 'bbn-rcc' 'igp' 'irtp' '3pc' 'tp++' 'il' 'sdrp' 'skip' 'pup' 'trunk-1'\n",
      " 'sat-mon' 'cpnx' 'ipv6' 'ipv6-frag' 'swipe' 'secure-vmtp' 'narp'\n",
      " 'ipv6-no' 'ipv6-opts' 'mtp' 'any' 'gre' 'nvp' 'leaf-1' 'argus' 'prm'\n",
      " 'xns-idp' 'rdp' 'mfe-nsp' 'ipv6-route' 'sat-expak' 'ggp' 'ip' 'pvp'\n",
      " 'chaos' 'egp' 'leaf-2' 'netblt' 'idpr' 'ddp' 'rsvp' 'i-nlsp' 'ippc'\n",
      " 'etherip' 'pri-enc' 'dgp' 'qnx' 'nsfnet-igp' 'tcf' 'pgm' 'zero' 'iso-ip'\n",
      " 'vmtp' 'ttp' 'ipx-n-ip' 'vrrp' 'crtp' 'crudp' 'emcon' 'ddx' 'xnet' 'uti'\n",
      " 'trunk-2' 'iso-tp4' 'compaq-peer' 'l2tp' 'ipcv' 'tlsp' 'wb-mon' 'sm'\n",
      " 'wb-expak' 'mux' 'eigrp' 'larp' 'fc' 'merit-inp' 'pnni' 'idpr-cmtp'\n",
      " 'idrp' 'a/n' 'mhrp' 'rvd' 'cftp' 'vines' 'iatp' 'visa' 'cphb' 'ptp'\n",
      " 'ax.25' 'sccopmce' 'kryptolan' 'micp' 'ipip' 'aes-sp3-d' 'ifmp' 'snp'\n",
      " 'sprite-rpc' 'ipcomp' 'br-sat-mon' 'encap' 'srp' 'fire' 'aris' 'stp'\n",
      " 'pim' 'iplt' 'sps' 'pipe' 'cbt' 'dcn' 'hmp' 'sep' 'mobile' 'wsn' 'sun-nd'\n",
      " 'xtp' 'bna' 'udp' 'arp' 'icmp' 'igmp' 'rtp']\n",
      "service\n",
      "['-' 'http' 'smtp' 'ftp' 'irc' 'pop3' 'ftp-data' 'dhcp' 'ssl' 'dns' 'snmp'\n",
      " 'ssh' 'radius']\n",
      "state\n",
      "['INT' 'CON' 'FIN' 'REQ' 'RST' 'ECO' 'PAR' 'URN' 'no']\n",
      "spkts\n",
      "[   2   42   28   82    4   20   10   80   12   22   40   18   68   54\n",
      "  250  196  118   60   16   72   74  180   32   30   14   26   50    1\n",
      "    8   58   36   52   24   70   56   66  202   34   96  106    6   48\n",
      "  128   64  130   46 4316  490  682  150  242   62  286  164  154   92\n",
      "  112  348   90  574   44 5418  232   38  200  190  160  198  152  372\n",
      "  340  102 4808   88  158   84   94  320  378  228   78  342  144 5494\n",
      "  668  816 4018  166  188  226  374  184  442 6974  276   76  246 5386\n",
      "  594  308  156  134  216  136  238  294  826  162  532 1268  310  210\n",
      "  194  146  448  116  644  300  224  100  256  222  954  542  346 5966\n",
      "   98 1876  890  290  104  138  110 2478  370  304  584 5404  562  142\n",
      "  170  114 9094  186 9492  148  486  108  120 4232  212  426  598 1062\n",
      "  336  334 3086  292  392  306 5708  230  174  462  314 1634 1630  706\n",
      "  672 2698  354 1522  252  538  266  220  244 1664  438  234  272  376\n",
      "  558  172  240  576  832 5370 4026 4694 3758 1254  132 1832 3974  332\n",
      "  168 4040  312  206  282  446  288  296   86  722 1866  566  384  564\n",
      " 4416 5062 5424  208  586  864 1138  714 7990  428 5702  398  140  740\n",
      " 2740  702 2462  964  236 2014  254  258  472 3818  686 5666  434  440\n",
      " 4608  660  410  326 4370 4360 4174  204  298 5392  614 1248 2320  582\n",
      " 5402  552  656  662 1874  612 9616 1072  636 1142  274 6836 8882 5652\n",
      "  176  390  618  124  608  494 1006 2446 2690  670 2436    3  382 4404\n",
      "  716  122 2922  548 5382 6616  364  568 6776  338  578 1246  710 3074\n",
      " 1870  530 1704 3844 1110  484 2004  822  600 5254  344 5442  316 7226\n",
      "  482 4938  328 7252  698 1770  694  836 4212 8324  430 1834  178  192\n",
      "  362 1892  262  696 2734  720 5412 4450 1708 1012  454  432  952 1228\n",
      " 1686 6584  182 6332 5444 2750  804 7194 5376  424 7660 3882  280  554\n",
      " 5686 3822 5184  126 1456  284 1544  324  624 1624  270  512 1604  218\n",
      " 1638 1600 1622  264 1596 2700  248 2722  978  360  366  352  322  358\n",
      "  356  452  450  368  420  650  350  318  214   11  436  422  414  302\n",
      "  460  396  400  464  412  468  456  330  406  466  402  444  458  268\n",
      "  278  622  632  620  628  616  260  470  818]\n",
      "dpkts\n",
      "[   0    2   10    8   16   18   24    6   48   26   12   46   28   14\n",
      "    4   34   22   38   20  682   30   78 2940  150  140   44  402   40\n",
      "   54  368   62   52   96   32   92   36  704   58   66   74  164  100\n",
      "  274   64  242  810  288   50  324  148   94   42  350  160  570 1084\n",
      "  166   72   68  158   82  156  748  230  108  318  412  138  236  268\n",
      "  112  110 2150  558  828  116  132  196  626  252  340  286  394   70\n",
      "  182 2588  162 1036   60  826  106   56  210  332  118  300  366 1530\n",
      "  244  208 3402  200  448  226   80 1234   76   88  146   86   98   90\n",
      "  114  346  316   84 1382  296  254  304  102  562  168  152  362  232\n",
      "  130  918  616  310  144  364  276  224  174  802  308  588  392  154\n",
      "  554  272  814  142  388  104  184  342 1368  656  120 1414  328  702\n",
      "  612  636  222  650  280  198  564  178  370  486  472  816 1978  808\n",
      "  860  134  136  306 2636  352  260  334  800  124  444 1250  238  250\n",
      "  416  438 2272  248  338  426  336 1594  258  270 1226  126  122  188\n",
      "  548 1542  446 1434  228  170  822  732  592  204 1418  282  398  652\n",
      "  292  668  202  172  694  556 2786  572 2144  128  192  356  320  348\n",
      "  176  670  818  780  618  278 1216 1104  386  594  878  186  214  566\n",
      "  624  422  180  246  492  354  382 1394 1998  646  862 2630 2612  312\n",
      "  738  716  428  374 1560  812 2646  536 1052  700  696  360  662 1244\n",
      "  798  482  264  586  796  610  824  326 1206  832  298 1458  314  544\n",
      " 1272  266 1452  190  206  600  664  240  418  420 1842  358 1030 1350\n",
      "  372  468  856 1046 3698 3664  396  450  432  552  380  322  710 1256\n",
      "  290 2620 3036 1796  986 1032  602  302 1538  256 1048  550  804  576\n",
      " 3206  648 1222 1262  642  568 2076 1088  762  378  424 1110 1502  462\n",
      " 1260  376  864 1310  608 1644 3604  714 2642  514  194  476 2306  234\n",
      " 1264  690  220 1018  644  964  834  596 1160  294  792 2004 1656  404\n",
      "  212 2002  436  434 1500 2014 1622  466  430  692 1388 6494 3314  384\n",
      " 1742    3  746  858  560 1278 1078    1  400  806  754  512  684  510\n",
      " 2748 5254  674  698  686]\n",
      "sbytes\n",
      "[  200  2688 12832 ...  3216  5152  3264]\n",
      "dbytes\n",
      "[     0    440   1206 ... 481642 263718 914758]\n",
      "rate\n",
      "[1.11111107e+05 1.25000000e+05 1.42857141e+05 ... 9.14763300e+01\n",
      " 2.47548030e+01 5.79887220e+01]\n",
      "sttl\n",
      "[254  62   0 255 252   1  31  63  64  60  29]\n",
      "dttl\n",
      "[  0  60 252 254  29  31]\n",
      "sload\n",
      "[8.88888880e+07 1.00000000e+08 1.14285712e+08 ... 4.67937500e+03\n",
      " 1.54734023e+04 2.84531328e+04]\n",
      "dload\n",
      "[     0.         2952.34668   12787.84766  ... 836613.4375     2957.373779\n",
      "   6927.719238]\n",
      "sloss\n",
      "[   0    2    4    6    1    9    3   11   10   56    7   20    8 2157\n",
      "   16  337   69   45   21  118   22   36   12  140   78   15   74   17\n",
      "   28   43   24   27    5   53  171   42   29  284   31 2706   14  113\n",
      "   38   97   18   19   92   77   71  183  167   48 2403   41   13   76\n",
      "   39   62   44   72   30  157  186  111   65 2746  331  406 2003   80\n",
      "   91  110   33   23 3484  135   95   35  120 2690  295  151   75   64\n",
      "  105  144  410   26  631  152  102   94   70  221   37   55  319  168\n",
      "   25  147   87   96  125  108  473   32   34  268  170 2982  934  438\n",
      "  142   49 1236  182  149  289   52 2699  278   68   51   81   46   54\n",
      " 4546   47   90 4745  240 2110  210   79  296   73   61  528  165  124\n",
      "  164 1540  143  192 2851   84   66  154  809   50  349  332 1346  758\n",
      "  123  266  107  119  830  216  114  133  276   83  106  338  285  413\n",
      " 2682 2011 2343   89   82 1877  624   63  913 1985  162 2019  130  100\n",
      "  138  184  145  358   40  930  280  189  279 2205 2530 2709  288  451\n",
      "  566  354 3993  239  211 2848  196   67  366 1367   93  348 1225  112\n",
      "  476 1004  126  233  116  122 1906 2832  153 2303  327  159 2184 2179\n",
      " 2085  217  146 2693  304  357  622 1157 2698  273  325  328  303 4803\n",
      " 2014  532  315  209  568 3417 4439 2822  150   60  109  244  495 1220\n",
      " 1341  155 1214  188 2201   85  355   58 1458 2688 3307  175  281 3386\n",
      "   99  286  619  339  166  101  352 1536  932  850 1922  552  999  408\n",
      "  297 2623  271 2718 3607  238 2468  161 3624  346  881  344  414 2101\n",
      " 4158  115   57  911  185   86  305  178  943 1364  356 2703 2225  847\n",
      "  502  213  287  611  840 3290   88 3164  219 2719 1372  399 3592 2687\n",
      " 3830 1940  137 2840 1910 2591  726  340  770  309  131   59  129  799\n",
      "  156  816  132  797  808  795 1347 1358]\n",
      "dloss\n",
      "[   0    2    4    7    1    6   21    3   11    5   10    8    9   17\n",
      "   12   37   22 1467   73   20  194   18  181   24   46   14   44   16\n",
      "  349   27  182   35   80  134   30  119  141   23  160  135   72   45\n",
      "  172   15   75  283  540   77   39   74  113   52  157  204   34   13\n",
      "   67  115  132   31   54   29   53 1072  276   95  124  168   56  195\n",
      " 1291   79   78   19   28   33   26  103  164   57   51  148   64  763\n",
      "  120  102 1699   25  221  111  615   32   36   42   71   68   41   47\n",
      "   43  171  155   40  689  146   55  125  149   49  279  150  131   76\n",
      "   82  178  114   63  306  180  136  110   84  398  152  292  275   69\n",
      "  192   50   86  326   58  162  304  109  323  138   97   48  153   89\n",
      "   96  183  240  406  123  987  402   70   66  151 1315  173  165  220\n",
      "  623  116  122  206 1133  167  211  166  797  126  611  118   61   59\n",
      "   91  272  769  715   81  707  196  133  144   88  332   99  344 1390\n",
      "  284 1070   62   93  176  158  179   85   83   38  407  307  310  137\n",
      "  606  550  197  191  295   90  324  105  234  280  121  244  175  203\n",
      "  694  997  117 1312 1303  154  356  212  142  185  778  403 1320  266\n",
      "  163  524  329  620  397  238  130  288  396  303  161  601  414  727\n",
      "  270  139  294  634   92  101  330  184  207  921  177  231  521 1846\n",
      " 1831  412  265  214  274  188  410  625 1307 1517  895  298  100  767\n",
      "  522  273  399 1601  609  302  629  319  282  147  112 1035  186  210\n",
      "  277  749  653  301  820 1799  143 1318  255  236 1151  342  108  296\n",
      "   98  321 1000  825  200  281  104  140  999  216  215  748 1005  805\n",
      "  692  174 3246 1654   87   65  127  190  869  370  390  253  583  491\n",
      "  366  269  199  369  230 1368 2627  335  345  347  341]\n",
      "sinpkt\n",
      "[9.0000000e-03 8.0000000e-03 7.0000000e-03 ... 7.7291231e+01 6.5607889e+01\n",
      " 2.6850333e+01]\n",
      "dinpkt\n",
      "[0.00000000e+00 8.00000000e-03 6.90291090e+01 ... 1.26555950e+01\n",
      " 1.08024398e+02 4.31960000e+01]\n",
      "sjit\n",
      "[   0.         55.640574  746.488812 ... 3644.098928 3434.178772\n",
      " 1347.212612]\n",
      "djit\n",
      "[   0.        115.465797   97.857422 ... 1569.626815  160.602578\n",
      "   62.070973]\n",
      "swin\n",
      "[  0 255]\n",
      "stcpb\n",
      "[         0 3744970439 1661213007 ... 3049056587 3929846639  605886437]\n",
      "dtcpb\n",
      "[         0 1693560598  910686324 ... 1142213436 1561705413 1018502068]\n",
      "dwin\n",
      "[  0 255 244  70]\n",
      "tcprtt\n",
      "[0.       0.112935 0.104587 ... 0.132647 0.14168  0.076541]\n",
      "synack\n",
      "[0.       0.040634 0.089665 ... 0.037217 0.07807  0.065812]\n",
      "ackdat\n",
      "[0.       0.072301 0.014922 ... 0.081571 0.054577 0.033859]\n",
      "smean\n",
      "[ 100   64  458 ... 1151 1364   40]\n",
      "dmean\n",
      "[   0  220  121 ... 1458  932  537]\n",
      "trans_depth\n",
      "[  0   1   2  80 155   3   4 163 172   5  39]\n",
      "response_body_len\n",
      "[     0    158    128 ... 443364 149237 127488]\n",
      "ct_srv_src\n",
      "[ 8  7  9  6  5  2  3  4  1 10 13 11 12 14 26 15 16 18 44 45 21 25 39 36\n",
      " 29 31 24 32 19 17 22 34 28 35 33 23 40 52 30 20 38 47 27 37 46 41 43 42\n",
      " 49 51 50 63]\n",
      "ct_state_ttl\n",
      "[2 0 1 6 3]\n",
      "ct_dst_ltm\n",
      "[ 5  2  6  4  3  1  9 14 15 11  8  7 19 16 18 17 13 10 34 23 20 44 22 26\n",
      " 25 31 32 27 24 12 38 33 36 43 21 39 48 29 41 45 35 40 37 28 47 30 42 50\n",
      " 51 46]\n",
      "ct_src_dport_ltm\n",
      "[ 4  2  6  5  3  1  9 10  8  7 25 19 11 18 15 14 13 17 12 16 22 31 27 34\n",
      " 28 23 26 32 33 29 20 30 24 21 36 45 35 39 42 37 41 38 50 51 43 46]\n",
      "ct_dst_sport_ltm\n",
      "[ 4  2  6  5  3  1  9 10  8  7 18 17 14 15 16 13 12 11 23 24 20 25 28 22\n",
      " 19 26 21 27 31 37 46]\n",
      "ct_dst_src_ltm\n",
      "[ 8  7  9  6  5  2  3 10  4  1 13 11 16 15 17 12 14 18 19 22 23 28 21 34\n",
      " 32 27 26 40 43 45 38 37 31 20 24 33 44 42 29 30 46 39 36 41 35 25 47 49\n",
      " 51 50 52 63 54 65]\n",
      "is_ftp_login\n",
      "[0 1 4 2]\n",
      "ct_ftp_cmd\n",
      "[0 1 4 2]\n",
      "ct_flw_http_mthd\n",
      "[ 0  1  9  4  6  2 25 16 30 12  3]\n",
      "ct_src_ltm\n",
      "[13 11  5  7 23 15  3  2  1  4 12  9  6 21 10 19 27 20  8 14 26 22 18 17\n",
      " 42 28 24 16 31 37 35 34 44 25 40 60 41 29 45 30 47 46 39 33 38 43 32 36\n",
      " 50 51]\n",
      "ct_srv_dst\n",
      "[ 8  7  9  6  5  2  3  4  1 10 13 11 12 14 18 21 16 44 22 42 24 28 32 31\n",
      " 20 23 39 15 25 34 26 36 35 33 17 30 19 38 29 37 40 27 46 45 41 43 47 49\n",
      " 51 50 52 62]\n",
      "is_sm_ips_ports\n",
      "[0 1]\n",
      "attack_cat\n",
      "['Analysis' 'Backdoor' 'Exploits' 'Fuzzers' 'Generic' 'Normal'\n",
      " 'Reconnaissance' 'Shellcode' 'Worms']\n",
      "label\n",
      "[1 0]\n"
     ]
    }
   ],
   "source": [
    "#check unique value\n",
    "for i in range(len(df.columns)):\n",
    "    print(df.columns[i])\n",
    "    print(pd.unique(df.iloc[:,i]))  "
   ]
  },
  {
   "cell_type": "markdown",
   "metadata": {},
   "source": [
    "## duration = 0 ?\n",
    "i dont think duration of time saction should be zero"
   ]
  },
  {
   "cell_type": "code",
   "execution_count": 146,
   "metadata": {},
   "outputs": [
    {
     "data": {
      "text/plain": [
       "1333"
      ]
     },
     "execution_count": 146,
     "metadata": {},
     "output_type": "execute_result"
    }
   ],
   "source": [
    "# check how much are there\n",
    "df.dur[df.dur == 0].count()\n",
    "#small amount"
   ]
  },
  {
   "cell_type": "code",
   "execution_count": 147,
   "metadata": {},
   "outputs": [
    {
     "name": "stderr",
     "output_type": "stream",
     "text": [
      "C:\\Users\\Asus\\AppData\\Local\\Temp\\ipykernel_27092\\3797832464.py:2: UserWarning: Boolean Series key will be reindexed to match DataFrame index.\n",
      "  df[temp][df.dur == 0][(df.sbytes != 0) | (df.dbytes != 0)].count()\n"
     ]
    },
    {
     "data": {
      "text/plain": [
       "dur       1333\n",
       "sbytes    1333\n",
       "dbytes    1333\n",
       "dtype: int64"
      ]
     },
     "execution_count": 147,
     "metadata": {},
     "output_type": "execute_result"
    }
   ],
   "source": [
    "temp = [\"dur\",\"sbytes\",\"dbytes\"]\n",
    "df[temp][df.dur == 0][(df.sbytes != 0) | (df.dbytes != 0)].count()"
   ]
  },
  {
   "cell_type": "code",
   "execution_count": 148,
   "metadata": {},
   "outputs": [
    {
     "data": {
      "text/plain": [
       "0"
      ]
     },
     "execution_count": 148,
     "metadata": {},
     "output_type": "execute_result"
    }
   ],
   "source": [
    "# decide to replace with mean\n",
    "df.dur =  df.dur.replace(0,df.dur.mean())\n",
    "df.dur[df.dur == 0].count()"
   ]
  },
  {
   "cell_type": "markdown",
   "metadata": {},
   "source": [
    "## rate \n",
    "the value shouldn't be zero\n",
    "going to remove anyway"
   ]
  },
  {
   "cell_type": "code",
   "execution_count": 149,
   "metadata": {},
   "outputs": [
    {
     "data": {
      "text/plain": [
       "1565"
      ]
     },
     "execution_count": 149,
     "metadata": {},
     "output_type": "execute_result"
    }
   ],
   "source": [
    "df.rate[df.rate == 0].count()"
   ]
  },
  {
   "cell_type": "markdown",
   "metadata": {},
   "source": [
    "## sbytes\n",
    "shouldn't be zero unless the thier no data transfer from the  source to destination"
   ]
  },
  {
   "cell_type": "code",
   "execution_count": 150,
   "metadata": {},
   "outputs": [
    {
     "data": {
      "text/plain": [
       "0"
      ]
     },
     "execution_count": 150,
     "metadata": {},
     "output_type": "execute_result"
    }
   ],
   "source": [
    "df.sbytes[df.sbytes == 0].count()"
   ]
  },
  {
   "cell_type": "markdown",
   "metadata": {},
   "source": [
    "##  dbytes\n",
    "shouldn't be zero unless the thier no data transfer from the  destination to source"
   ]
  },
  {
   "cell_type": "code",
   "execution_count": 151,
   "metadata": {},
   "outputs": [
    {
     "data": {
      "text/plain": [
       "69820"
      ]
     },
     "execution_count": 151,
     "metadata": {},
     "output_type": "execute_result"
    }
   ],
   "source": [
    "df.dbytes[df.dbytes == 0].count()\n"
   ]
  },
  {
   "cell_type": "markdown",
   "metadata": {},
   "source": [
    "## sload and dload\n",
    "bps should be more than 0 except no data transfer"
   ]
  },
  {
   "cell_type": "code",
   "execution_count": 152,
   "metadata": {},
   "outputs": [
    {
     "data": {
      "text/plain": [
       "1572"
      ]
     },
     "execution_count": 152,
     "metadata": {},
     "output_type": "execute_result"
    }
   ],
   "source": [
    "df.sload[(df.sload == 0) & (df.sbytes != 0)].count()\n",
    "# Since their always a data transfer from the variable sbyte the value should not be zero\n",
    "# low amount of data missing replace with mean"
   ]
  },
  {
   "cell_type": "code",
   "execution_count": 153,
   "metadata": {},
   "outputs": [
    {
     "data": {
      "text/plain": [
       "0"
      ]
     },
     "execution_count": 153,
     "metadata": {},
     "output_type": "execute_result"
    }
   ],
   "source": [
    "df.sload =  df.sload.replace(0,df.sload.mean())\n",
    "df.sload[df.sload == 0].count()"
   ]
  },
  {
   "cell_type": "code",
   "execution_count": 154,
   "metadata": {},
   "outputs": [
    {
     "data": {
      "text/plain": [
       "69827"
      ]
     },
     "execution_count": 154,
     "metadata": {},
     "output_type": "execute_result"
    }
   ],
   "source": [
    "df.dload[df.dload == 0].count()"
   ]
  },
  {
   "cell_type": "code",
   "execution_count": 155,
   "metadata": {},
   "outputs": [
    {
     "data": {
      "text/plain": [
       "7"
      ]
     },
     "execution_count": 155,
     "metadata": {},
     "output_type": "execute_result"
    }
   ],
   "source": [
    "#there should be 7 missing value\n",
    "df.dload[(df.dload == 0) & (df.dbytes != 0)].count()"
   ]
  },
  {
   "cell_type": "code",
   "execution_count": 156,
   "metadata": {},
   "outputs": [
    {
     "name": "stderr",
     "output_type": "stream",
     "text": [
      "C:\\Users\\Asus\\AppData\\Local\\Temp\\ipykernel_27092\\1680505019.py:2: SettingWithCopyWarning: \n",
      "A value is trying to be set on a copy of a slice from a DataFrame\n",
      "\n",
      "See the caveats in the documentation: https://pandas.pydata.org/pandas-docs/stable/user_guide/indexing.html#returning-a-view-versus-a-copy\n",
      "  df.dload[(df.dload == 0) & (df.dbytes != 0)] = df.dload[(df.dload == 0) & (df.dbytes != 0)].replace(0,df.dload.mean())\n"
     ]
    },
    {
     "data": {
      "text/plain": [
       "69820"
      ]
     },
     "execution_count": 156,
     "metadata": {},
     "output_type": "execute_result"
    }
   ],
   "source": [
    "#replace them with mean\n",
    "df.dload[(df.dload == 0) & (df.dbytes != 0)] = df.dload[(df.dload == 0) & (df.dbytes != 0)].replace(0,df.dload.mean())\n",
    "df.dload[df.dload == 0].count() "
   ]
  },
  {
   "cell_type": "markdown",
   "metadata": {},
   "source": [
    "## swin and dwin have low unique value?\n",
    "apon reseach the number could be zero."
   ]
  },
  {
   "cell_type": "code",
   "execution_count": 157,
   "metadata": {},
   "outputs": [
    {
     "name": "stdout",
     "output_type": "stream",
     "text": [
      "[  0 255]\n"
     ]
    },
    {
     "data": {
      "image/png": "[encoded data removed]",
      "text/plain": [
       "<Figure size 640x480 with 1 Axes>"
      ]
     },
     "metadata": {},
     "output_type": "display_data"
    }
   ],
   "source": [
    "print(df.swin.unique())\n",
    "plt.hist(df.swin);"
   ]
  },
  {
   "cell_type": "code",
   "execution_count": 158,
   "metadata": {},
   "outputs": [
    {
     "name": "stdout",
     "output_type": "stream",
     "text": [
      "[  0 255 244  70]\n"
     ]
    },
    {
     "data": {
      "image/png": "[encoded data removed]",
      "text/plain": [
       "<Figure size 640x480 with 1 Axes>"
      ]
     },
     "metadata": {},
     "output_type": "display_data"
    }
   ],
   "source": [
    "print(df.dwin.unique())\n",
    "plt.hist(df.dwin);"
   ]
  },
  {
   "cell_type": "markdown",
   "metadata": {},
   "source": [
    "## sjit and djit"
   ]
  },
  {
   "cell_type": "code",
   "execution_count": 159,
   "metadata": {},
   "outputs": [
    {
     "name": "stdout",
     "output_type": "stream",
     "text": [
      "74931\n",
      "70923\n"
     ]
    }
   ],
   "source": [
    "print(df.sjit.loc[df.sjit == 0].count())\n",
    "print(df.sjit.loc[df.sjit != 0].count())\n",
    "# apon research the data can be zero"
   ]
  },
  {
   "cell_type": "code",
   "execution_count": 160,
   "metadata": {},
   "outputs": [
    {
     "name": "stdout",
     "output_type": "stream",
     "text": [
      "77378\n",
      "68476\n"
     ]
    }
   ],
   "source": [
    "print(df.djit.loc[df.djit == 0].count())\n",
    "print(df.djit.loc[df.djit != 0].count())\n",
    "# apon research the data can be zero"
   ]
  },
  {
   "cell_type": "markdown",
   "metadata": {},
   "source": [
    "# duplicate row"
   ]
  },
  {
   "cell_type": "code",
   "execution_count": 161,
   "metadata": {},
   "outputs": [
    {
     "name": "stdout",
     "output_type": "stream",
     "text": [
      "145854\n",
      "65753\n"
     ]
    }
   ],
   "source": [
    "print(df.shape[0])\n",
    "print(df.duplicated(keep=False).sum()) #there are lots of duplicate data"
   ]
  },
  {
   "cell_type": "code",
   "execution_count": 162,
   "metadata": {},
   "outputs": [
    {
     "data": {
      "text/html": [
       "<div>\n",
       "<style scoped>\n",
       "    .dataframe tbody tr th:only-of-type {\n",
       "        vertical-align: middle;\n",
       "    }\n",
       "\n",
       "    .dataframe tbody tr th {\n",
       "        vertical-align: top;\n",
       "    }\n",
       "\n",
       "    .dataframe thead th {\n",
       "        text-align: right;\n",
       "    }\n",
       "</style>\n",
       "<table border=\"1\" class=\"dataframe\">\n",
       "  <thead>\n",
       "    <tr style=\"text-align: right;\">\n",
       "      <th></th>\n",
       "      <th>dur</th>\n",
       "      <th>proto</th>\n",
       "      <th>service</th>\n",
       "      <th>state</th>\n",
       "      <th>spkts</th>\n",
       "      <th>dpkts</th>\n",
       "      <th>sbytes</th>\n",
       "      <th>dbytes</th>\n",
       "      <th>rate</th>\n",
       "      <th>sttl</th>\n",
       "      <th>...</th>\n",
       "      <th>ct_dst_sport_ltm</th>\n",
       "      <th>ct_dst_src_ltm</th>\n",
       "      <th>is_ftp_login</th>\n",
       "      <th>ct_ftp_cmd</th>\n",
       "      <th>ct_flw_http_mthd</th>\n",
       "      <th>ct_src_ltm</th>\n",
       "      <th>ct_srv_dst</th>\n",
       "      <th>is_sm_ips_ports</th>\n",
       "      <th>attack_cat</th>\n",
       "      <th>label</th>\n",
       "    </tr>\n",
       "  </thead>\n",
       "  <tbody>\n",
       "    <tr>\n",
       "      <th>85015</th>\n",
       "      <td>0.000001</td>\n",
       "      <td>udp</td>\n",
       "      <td>dns</td>\n",
       "      <td>INT</td>\n",
       "      <td>2</td>\n",
       "      <td>0</td>\n",
       "      <td>114</td>\n",
       "      <td>0</td>\n",
       "      <td>1.000000e+06</td>\n",
       "      <td>254</td>\n",
       "      <td>...</td>\n",
       "      <td>14</td>\n",
       "      <td>31</td>\n",
       "      <td>0</td>\n",
       "      <td>0</td>\n",
       "      <td>0</td>\n",
       "      <td>14</td>\n",
       "      <td>31</td>\n",
       "      <td>0</td>\n",
       "      <td>Generic</td>\n",
       "      <td>1</td>\n",
       "    </tr>\n",
       "    <tr>\n",
       "      <th>73422</th>\n",
       "      <td>0.000001</td>\n",
       "      <td>udp</td>\n",
       "      <td>dns</td>\n",
       "      <td>INT</td>\n",
       "      <td>2</td>\n",
       "      <td>0</td>\n",
       "      <td>114</td>\n",
       "      <td>0</td>\n",
       "      <td>1.000000e+06</td>\n",
       "      <td>254</td>\n",
       "      <td>...</td>\n",
       "      <td>16</td>\n",
       "      <td>26</td>\n",
       "      <td>0</td>\n",
       "      <td>0</td>\n",
       "      <td>0</td>\n",
       "      <td>16</td>\n",
       "      <td>26</td>\n",
       "      <td>0</td>\n",
       "      <td>Generic</td>\n",
       "      <td>1</td>\n",
       "    </tr>\n",
       "    <tr>\n",
       "      <th>33275</th>\n",
       "      <td>0.000001</td>\n",
       "      <td>unas</td>\n",
       "      <td>-</td>\n",
       "      <td>INT</td>\n",
       "      <td>2</td>\n",
       "      <td>0</td>\n",
       "      <td>200</td>\n",
       "      <td>0</td>\n",
       "      <td>1.000000e+06</td>\n",
       "      <td>254</td>\n",
       "      <td>...</td>\n",
       "      <td>1</td>\n",
       "      <td>4</td>\n",
       "      <td>0</td>\n",
       "      <td>0</td>\n",
       "      <td>0</td>\n",
       "      <td>3</td>\n",
       "      <td>3</td>\n",
       "      <td>0</td>\n",
       "      <td>Exploits</td>\n",
       "      <td>1</td>\n",
       "    </tr>\n",
       "    <tr>\n",
       "      <th>64237</th>\n",
       "      <td>0.000001</td>\n",
       "      <td>udp</td>\n",
       "      <td>dns</td>\n",
       "      <td>INT</td>\n",
       "      <td>2</td>\n",
       "      <td>0</td>\n",
       "      <td>114</td>\n",
       "      <td>0</td>\n",
       "      <td>1.000000e+06</td>\n",
       "      <td>254</td>\n",
       "      <td>...</td>\n",
       "      <td>8</td>\n",
       "      <td>24</td>\n",
       "      <td>0</td>\n",
       "      <td>0</td>\n",
       "      <td>0</td>\n",
       "      <td>8</td>\n",
       "      <td>24</td>\n",
       "      <td>0</td>\n",
       "      <td>Generic</td>\n",
       "      <td>1</td>\n",
       "    </tr>\n",
       "    <tr>\n",
       "      <th>33236</th>\n",
       "      <td>0.000001</td>\n",
       "      <td>snp</td>\n",
       "      <td>-</td>\n",
       "      <td>INT</td>\n",
       "      <td>2</td>\n",
       "      <td>0</td>\n",
       "      <td>200</td>\n",
       "      <td>0</td>\n",
       "      <td>1.000000e+06</td>\n",
       "      <td>254</td>\n",
       "      <td>...</td>\n",
       "      <td>3</td>\n",
       "      <td>8</td>\n",
       "      <td>0</td>\n",
       "      <td>0</td>\n",
       "      <td>0</td>\n",
       "      <td>4</td>\n",
       "      <td>7</td>\n",
       "      <td>0</td>\n",
       "      <td>Exploits</td>\n",
       "      <td>1</td>\n",
       "    </tr>\n",
       "    <tr>\n",
       "      <th>...</th>\n",
       "      <td>...</td>\n",
       "      <td>...</td>\n",
       "      <td>...</td>\n",
       "      <td>...</td>\n",
       "      <td>...</td>\n",
       "      <td>...</td>\n",
       "      <td>...</td>\n",
       "      <td>...</td>\n",
       "      <td>...</td>\n",
       "      <td>...</td>\n",
       "      <td>...</td>\n",
       "      <td>...</td>\n",
       "      <td>...</td>\n",
       "      <td>...</td>\n",
       "      <td>...</td>\n",
       "      <td>...</td>\n",
       "      <td>...</td>\n",
       "      <td>...</td>\n",
       "      <td>...</td>\n",
       "      <td>...</td>\n",
       "      <td>...</td>\n",
       "    </tr>\n",
       "    <tr>\n",
       "      <th>134022</th>\n",
       "      <td>59.996574</td>\n",
       "      <td>arp</td>\n",
       "      <td>-</td>\n",
       "      <td>INT</td>\n",
       "      <td>2</td>\n",
       "      <td>0</td>\n",
       "      <td>92</td>\n",
       "      <td>0</td>\n",
       "      <td>1.666800e-02</td>\n",
       "      <td>0</td>\n",
       "      <td>...</td>\n",
       "      <td>2</td>\n",
       "      <td>2</td>\n",
       "      <td>0</td>\n",
       "      <td>0</td>\n",
       "      <td>0</td>\n",
       "      <td>2</td>\n",
       "      <td>2</td>\n",
       "      <td>1</td>\n",
       "      <td>Normal</td>\n",
       "      <td>0</td>\n",
       "    </tr>\n",
       "    <tr>\n",
       "      <th>134023</th>\n",
       "      <td>59.996574</td>\n",
       "      <td>arp</td>\n",
       "      <td>-</td>\n",
       "      <td>INT</td>\n",
       "      <td>2</td>\n",
       "      <td>0</td>\n",
       "      <td>92</td>\n",
       "      <td>0</td>\n",
       "      <td>1.666800e-02</td>\n",
       "      <td>0</td>\n",
       "      <td>...</td>\n",
       "      <td>2</td>\n",
       "      <td>2</td>\n",
       "      <td>0</td>\n",
       "      <td>0</td>\n",
       "      <td>0</td>\n",
       "      <td>2</td>\n",
       "      <td>2</td>\n",
       "      <td>1</td>\n",
       "      <td>Normal</td>\n",
       "      <td>0</td>\n",
       "    </tr>\n",
       "    <tr>\n",
       "      <th>134021</th>\n",
       "      <td>59.996574</td>\n",
       "      <td>arp</td>\n",
       "      <td>-</td>\n",
       "      <td>INT</td>\n",
       "      <td>2</td>\n",
       "      <td>0</td>\n",
       "      <td>92</td>\n",
       "      <td>0</td>\n",
       "      <td>1.666800e-02</td>\n",
       "      <td>0</td>\n",
       "      <td>...</td>\n",
       "      <td>2</td>\n",
       "      <td>2</td>\n",
       "      <td>0</td>\n",
       "      <td>0</td>\n",
       "      <td>0</td>\n",
       "      <td>2</td>\n",
       "      <td>2</td>\n",
       "      <td>1</td>\n",
       "      <td>Normal</td>\n",
       "      <td>0</td>\n",
       "    </tr>\n",
       "    <tr>\n",
       "      <th>136117</th>\n",
       "      <td>59.996758</td>\n",
       "      <td>tcp</td>\n",
       "      <td>http</td>\n",
       "      <td>CON</td>\n",
       "      <td>818</td>\n",
       "      <td>5254</td>\n",
       "      <td>35660</td>\n",
       "      <td>7085342</td>\n",
       "      <td>1.011888e+02</td>\n",
       "      <td>62</td>\n",
       "      <td>...</td>\n",
       "      <td>2</td>\n",
       "      <td>10</td>\n",
       "      <td>0</td>\n",
       "      <td>0</td>\n",
       "      <td>6</td>\n",
       "      <td>5</td>\n",
       "      <td>2</td>\n",
       "      <td>0</td>\n",
       "      <td>Reconnaissance</td>\n",
       "      <td>1</td>\n",
       "    </tr>\n",
       "    <tr>\n",
       "      <th>136204</th>\n",
       "      <td>59.996758</td>\n",
       "      <td>tcp</td>\n",
       "      <td>http</td>\n",
       "      <td>CON</td>\n",
       "      <td>818</td>\n",
       "      <td>5254</td>\n",
       "      <td>35660</td>\n",
       "      <td>7085342</td>\n",
       "      <td>1.011888e+02</td>\n",
       "      <td>62</td>\n",
       "      <td>...</td>\n",
       "      <td>2</td>\n",
       "      <td>10</td>\n",
       "      <td>0</td>\n",
       "      <td>0</td>\n",
       "      <td>6</td>\n",
       "      <td>5</td>\n",
       "      <td>2</td>\n",
       "      <td>0</td>\n",
       "      <td>Reconnaissance</td>\n",
       "      <td>1</td>\n",
       "    </tr>\n",
       "  </tbody>\n",
       "</table>\n",
       "<p>65753 rows × 44 columns</p>\n",
       "</div>"
      ],
      "text/plain": [
       "              dur proto service state  spkts  dpkts  sbytes   dbytes  \\\n",
       "85015    0.000001   udp     dns   INT      2      0     114        0   \n",
       "73422    0.000001   udp     dns   INT      2      0     114        0   \n",
       "33275    0.000001  unas       -   INT      2      0     200        0   \n",
       "64237    0.000001   udp     dns   INT      2      0     114        0   \n",
       "33236    0.000001   snp       -   INT      2      0     200        0   \n",
       "...           ...   ...     ...   ...    ...    ...     ...      ...   \n",
       "134022  59.996574   arp       -   INT      2      0      92        0   \n",
       "134023  59.996574   arp       -   INT      2      0      92        0   \n",
       "134021  59.996574   arp       -   INT      2      0      92        0   \n",
       "136117  59.996758   tcp    http   CON    818   5254   35660  7085342   \n",
       "136204  59.996758   tcp    http   CON    818   5254   35660  7085342   \n",
       "\n",
       "                rate  sttl  ...  ct_dst_sport_ltm  ct_dst_src_ltm  \\\n",
       "85015   1.000000e+06   254  ...                14              31   \n",
       "73422   1.000000e+06   254  ...                16              26   \n",
       "33275   1.000000e+06   254  ...                 1               4   \n",
       "64237   1.000000e+06   254  ...                 8              24   \n",
       "33236   1.000000e+06   254  ...                 3               8   \n",
       "...              ...   ...  ...               ...             ...   \n",
       "134022  1.666800e-02     0  ...                 2               2   \n",
       "134023  1.666800e-02     0  ...                 2               2   \n",
       "134021  1.666800e-02     0  ...                 2               2   \n",
       "136117  1.011888e+02    62  ...                 2              10   \n",
       "136204  1.011888e+02    62  ...                 2              10   \n",
       "\n",
       "        is_ftp_login  ct_ftp_cmd  ct_flw_http_mthd  ct_src_ltm  ct_srv_dst  \\\n",
       "85015              0           0                 0          14          31   \n",
       "73422              0           0                 0          16          26   \n",
       "33275              0           0                 0           3           3   \n",
       "64237              0           0                 0           8          24   \n",
       "33236              0           0                 0           4           7   \n",
       "...              ...         ...               ...         ...         ...   \n",
       "134022             0           0                 0           2           2   \n",
       "134023             0           0                 0           2           2   \n",
       "134021             0           0                 0           2           2   \n",
       "136117             0           0                 6           5           2   \n",
       "136204             0           0                 6           5           2   \n",
       "\n",
       "        is_sm_ips_ports      attack_cat  label  \n",
       "85015                 0         Generic      1  \n",
       "73422                 0         Generic      1  \n",
       "33275                 0        Exploits      1  \n",
       "64237                 0         Generic      1  \n",
       "33236                 0        Exploits      1  \n",
       "...                 ...             ...    ...  \n",
       "134022                1          Normal      0  \n",
       "134023                1          Normal      0  \n",
       "134021                1          Normal      0  \n",
       "136117                0  Reconnaissance      1  \n",
       "136204                0  Reconnaissance      1  \n",
       "\n",
       "[65753 rows x 44 columns]"
      ]
     },
     "execution_count": 162,
     "metadata": {},
     "output_type": "execute_result"
    }
   ],
   "source": [
    "df.loc[(df.duplicated(keep=False))].sort_values(\"dur\")"
   ]
  },
  {
   "cell_type": "code",
   "execution_count": 163,
   "metadata": {},
   "outputs": [
    {
     "data": {
      "text/plain": [
       "0.3883746760459089"
      ]
     },
     "execution_count": 163,
     "metadata": {},
     "output_type": "execute_result"
    }
   ],
   "source": [
    "# cal the ratio\n",
    "df.duplicated().sum()/df.shape[0]\n",
    "# 38  percent duplicate data\n",
    "# since it is the log data of im going to keep all the duplicate"
   ]
  },
  {
   "cell_type": "markdown",
   "metadata": {},
   "source": [
    "# duplicate column"
   ]
  },
  {
   "cell_type": "markdown",
   "metadata": {},
   "source": [
    "## sload and sbyte Dload and dbyte"
   ]
  },
  {
   "cell_type": "code",
   "execution_count": 164,
   "metadata": {},
   "outputs": [
    {
     "data": {
      "image/png": "[encoded data removed]",
      "text/plain": [
       "<Figure size 640x480 with 1 Axes>"
      ]
     },
     "metadata": {},
     "output_type": "display_data"
    }
   ],
   "source": [
    "plt.scatter(df.sload*df.dur, df.sbytes);"
   ]
  },
  {
   "cell_type": "code",
   "execution_count": 165,
   "metadata": {},
   "outputs": [
    {
     "data": {
      "image/png": "[encoded data removed]",
      "text/plain": [
       "<Figure size 640x480 with 1 Axes>"
      ]
     },
     "metadata": {},
     "output_type": "display_data"
    }
   ],
   "source": [
    "plt.scatter(df.dload*df.dur, df.dbytes);"
   ]
  },
  {
   "cell_type": "markdown",
   "metadata": {},
   "source": [
    "## sttl and dttl"
   ]
  },
  {
   "cell_type": "code",
   "execution_count": 166,
   "metadata": {},
   "outputs": [
    {
     "data": {
      "text/plain": [
       "0    0\n",
       "1    0\n",
       "2    0\n",
       "3    0\n",
       "4    0\n",
       "Name: dttl, dtype: int64"
      ]
     },
     "execution_count": 166,
     "metadata": {},
     "output_type": "execute_result"
    }
   ],
   "source": [
    "df.dttl.head()"
   ]
  },
  {
   "cell_type": "code",
   "execution_count": 167,
   "metadata": {},
   "outputs": [
    {
     "data": {
      "text/plain": [
       "0    254\n",
       "1    254\n",
       "2    254\n",
       "3    254\n",
       "4    254\n",
       "Name: sttl, dtype: int64"
      ]
     },
     "execution_count": 167,
     "metadata": {},
     "output_type": "execute_result"
    }
   ],
   "source": [
    "df.sttl.head()\n",
    "# no they not the same"
   ]
  },
  {
   "cell_type": "markdown",
   "metadata": {},
   "source": [
    "## synack and sckdat and tcprtt"
   ]
  },
  {
   "cell_type": "code",
   "execution_count": 168,
   "metadata": {},
   "outputs": [
    {
     "data": {
      "text/plain": [
       "0    0.0\n",
       "1    0.0\n",
       "2    0.0\n",
       "3    0.0\n",
       "4    0.0\n",
       "Name: synack, dtype: float64"
      ]
     },
     "execution_count": 168,
     "metadata": {},
     "output_type": "execute_result"
    }
   ],
   "source": [
    "df.synack.head()"
   ]
  },
  {
   "cell_type": "code",
   "execution_count": 169,
   "metadata": {},
   "outputs": [
    {
     "data": {
      "text/plain": [
       "0    0.0\n",
       "1    0.0\n",
       "2    0.0\n",
       "3    0.0\n",
       "4    0.0\n",
       "Name: ackdat, dtype: float64"
      ]
     },
     "execution_count": 169,
     "metadata": {},
     "output_type": "execute_result"
    }
   ],
   "source": [
    "df.ackdat.head()"
   ]
  },
  {
   "cell_type": "code",
   "execution_count": 170,
   "metadata": {},
   "outputs": [
    {
     "data": {
      "image/png": "[encoded data removed]",
      "text/plain": [
       "<Figure size 640x480 with 1 Axes>"
      ]
     },
     "metadata": {},
     "output_type": "display_data"
    }
   ],
   "source": [
    "plt.scatter(df.synack,df.ackdat);\n",
    "# look like they are not the same data"
   ]
  },
  {
   "cell_type": "code",
   "execution_count": 171,
   "metadata": {},
   "outputs": [
    {
     "data": {
      "image/png": "[encoded data removed]",
      "text/plain": [
       "<Figure size 640x480 with 1 Axes>"
      ]
     },
     "metadata": {},
     "output_type": "display_data"
    }
   ],
   "source": [
    "temp = df.synack + df.ackdat\n",
    "plt.scatter(temp, df.tcprtt);\n",
    "#yep they are the same data\n",
    "# remove "
   ]
  },
  {
   "cell_type": "markdown",
   "metadata": {},
   "source": [
    "## is_ftp_login and ct_ftp_cmd\n",
    "the feature is ftp login should be binary but have the same unique value as ct_ftp_cmd"
   ]
  },
  {
   "cell_type": "code",
   "execution_count": 172,
   "metadata": {},
   "outputs": [
    {
     "data": {
      "text/plain": [
       "array([0, 1, 4, 2], dtype=int64)"
      ]
     },
     "execution_count": 172,
     "metadata": {},
     "output_type": "execute_result"
    }
   ],
   "source": [
    "pd.unique(df.is_ftp_login)"
   ]
  },
  {
   "cell_type": "code",
   "execution_count": 173,
   "metadata": {},
   "outputs": [
    {
     "data": {
      "text/plain": [
       "True"
      ]
     },
     "execution_count": 173,
     "metadata": {},
     "output_type": "execute_result"
    },
    {
     "data": {
      "image/png": "[encoded data removed]",
      "text/plain": [
       "<Figure size 640x480 with 1 Axes>"
      ]
     },
     "metadata": {},
     "output_type": "display_data"
    }
   ],
   "source": [
    "# check if that true\n",
    "plt.scatter(df.is_ftp_login, df.ct_ftp_cmd);\n",
    "#look like it \n",
    "df.is_ftp_login.equals(df.ct_ftp_cmd)\n",
    "# this comfirm it\n",
    "# is_ftp_login should be drop since from the feature description the data should hold binary"
   ]
  },
  {
   "cell_type": "markdown",
   "metadata": {},
   "source": [
    "# Data type"
   ]
  },
  {
   "cell_type": "markdown",
   "metadata": {},
   "source": [
    "## sbytes and dbytes\n",
    "do every file have to have a full byte?\n",
    "the ans is yes wow"
   ]
  },
  {
   "cell_type": "markdown",
   "metadata": {},
   "source": [
    "# Feature/Attribute selection"
   ]
  },
  {
   "cell_type": "markdown",
   "metadata": {},
   "source": [
    "remove tcprtt = df.synack + df.ackdat\n",
    "Sload > we have duration and sbyte\n",
    "Dload > we have duration and dbyte\n",
    "attack_cat"
   ]
  },
  {
   "cell_type": "code",
   "execution_count": 174,
   "metadata": {},
   "outputs": [],
   "source": [
    "drop_column = [\"tcprtt\",\"sload\", \"dload\",\"attack_cat\",\"is_ftp_login\"]\n",
    "df = df.drop(columns= drop_column, errors ='ignore')"
   ]
  },
  {
   "cell_type": "markdown",
   "metadata": {},
   "source": [
    "#  Scaling and standardisation"
   ]
  },
  {
   "cell_type": "code",
   "execution_count": 175,
   "metadata": {},
   "outputs": [
    {
     "name": "stdout",
     "output_type": "stream",
     "text": [
      "dur 1e-06 59.999046\n",
      "proto 3pc zero\n",
      "service - ssl\n",
      "state CON no\n",
      "spkts 1 9616\n",
      "dpkts 0 6494\n",
      "sbytes 28 12965233\n",
      "dbytes 0 8645430\n",
      "rate 0.0 1000000.003\n",
      "sttl 0 255\n",
      "dttl 0 254\n",
      "sloss 0 4803\n",
      "dloss 0 3246\n",
      "sinpkt 0.0 84371.496\n",
      "dinpkt 0.0 52124.264\n",
      "sjit 0.0 1181164.235\n",
      "djit 0.0 289388.2697\n",
      "swin 0 255\n",
      "stcpb 0 4294958913\n",
      "dtcpb 0 4294880419\n",
      "dwin 0 255\n",
      "synack 0.0 0.513125\n",
      "ackdat 0.0 1.424061\n",
      "smean 28 1504\n",
      "dmean 0 1458\n",
      "trans_depth 0 172\n",
      "response_body_len 0 6558056\n",
      "ct_srv_src 1 63\n",
      "ct_state_ttl 0 6\n",
      "ct_dst_ltm 1 51\n",
      "ct_src_dport_ltm 1 51\n",
      "ct_dst_sport_ltm 1 46\n",
      "ct_dst_src_ltm 1 65\n",
      "ct_ftp_cmd 0 4\n",
      "ct_flw_http_mthd 0 30\n",
      "ct_src_ltm 1 60\n",
      "ct_srv_dst 1 62\n",
      "is_sm_ips_ports 0 1\n",
      "label 0 1\n"
     ]
    }
   ],
   "source": [
    "#check unique value\n",
    "for i in range(len(df.columns)):\n",
    "    print(df.columns[i], df.iloc[:,i].min(), df.iloc[:,i].max())\n"
   ]
  },
  {
   "cell_type": "code",
   "execution_count": 176,
   "metadata": {},
   "outputs": [],
   "source": [
    "from sklearn.preprocessing import MinMaxScaler\n",
    "categorical_columns = df.select_dtypes(include=['object']).columns.tolist()\n",
    "categorical_columns\n",
    "scaler = MinMaxScaler()\n",
    "scaler = scaler.fit(df.loc[:, ~df.columns.isin(categorical_columns)])\n",
    "df.loc[:, ~df.columns.isin(categorical_columns)]= scaler.transform(df.loc[:, ~df.columns.isin(categorical_columns)])"
   ]
  },
  {
   "cell_type": "code",
   "execution_count": 177,
   "metadata": {},
   "outputs": [
    {
     "name": "stdout",
     "output_type": "stream",
     "text": [
      "dur 0.0 0.9999999999999999\n",
      "proto 3pc zero\n",
      "service - ssl\n",
      "state CON no\n",
      "spkts 0.0 0.9999999999999999\n",
      "dpkts 0.0 1.0\n",
      "sbytes 0.0 1.0\n",
      "dbytes 0.0 1.0\n",
      "rate 0.0 1.0\n",
      "sttl 0.0 1.0\n",
      "dttl 0.0 1.0\n",
      "sloss 0.0 1.0\n",
      "dloss 0.0 1.0\n",
      "sinpkt 0.0 1.0\n",
      "dinpkt 0.0 1.0\n",
      "sjit 0.0 1.0\n",
      "djit 0.0 1.0\n",
      "swin 0 1\n",
      "stcpb 0.0 1.0\n",
      "dtcpb 0.0 0.9999999999999999\n",
      "dwin 0.0 1.0\n",
      "synack 0.0 1.0\n",
      "ackdat 0.0 0.9999999999999999\n",
      "smean 0.0 1.0\n",
      "dmean 0.0 0.9999999999999999\n",
      "trans_depth 0.0 1.0\n",
      "response_body_len 0.0 1.0\n",
      "ct_srv_src 0.0 1.0\n",
      "ct_state_ttl 0.0 1.0\n",
      "ct_dst_ltm 0.0 1.0\n",
      "ct_src_dport_ltm 0.0 1.0\n",
      "ct_dst_sport_ltm 0.0 1.0000000000000002\n",
      "ct_dst_src_ltm 0.0 1.0\n",
      "ct_ftp_cmd 0.0 1.0\n",
      "ct_flw_http_mthd 0.0 1.0\n",
      "ct_src_ltm 0.0 1.0\n",
      "ct_srv_dst 0.0 1.0\n",
      "is_sm_ips_ports 0 1\n",
      "label 0 1\n"
     ]
    }
   ],
   "source": [
    "#check unique value\n",
    "for i in range(len(df.columns)):\n",
    "    print(df.columns[i], df.iloc[:,i].min(), df.iloc[:,i].max())"
   ]
  },
  {
   "cell_type": "markdown",
   "metadata": {},
   "source": [
    "#  Data imbalance"
   ]
  },
  {
   "cell_type": "code",
   "execution_count": 178,
   "metadata": {},
   "outputs": [
    {
     "name": "stdout",
     "output_type": "stream",
     "text": [
      "38777\n",
      "107077\n"
     ]
    }
   ],
   "source": [
    "# check the amount of normal and attack data\n",
    "print(df.label.loc[df.label == 0].count())\n",
    "print(df.label.loc[df.label == 1].count())\n",
    "# there are data imbalance in the data "
   ]
  },
  {
   "cell_type": "code",
   "execution_count": 179,
   "metadata": {},
   "outputs": [
    {
     "name": "stdout",
     "output_type": "stream",
     "text": [
      "0.734138247836878\n"
     ]
    }
   ],
   "source": [
    "print(df.label.loc[df.label == 1].count()/df.shape[0])\n",
    "#the attack data account for 73 percent of the dataset"
   ]
  },
  {
   "cell_type": "code",
   "execution_count": 180,
   "metadata": {},
   "outputs": [],
   "source": [
    "from sklearn.utils import resample\n",
    "df_major = df[df.label == 1]\n",
    "df_minor = df[df.label == 0]\n",
    "\n",
    "df_major_downs = resample(df_major, replace = True, n_samples = df_minor.shape[0], random_state = 5601)\n",
    "df = pd.concat([df_minor, df_major_downs])\n",
    "df.reset_index(inplace=True, drop=True)"
   ]
  },
  {
   "cell_type": "markdown",
   "metadata": {},
   "source": [
    "# Feature engineering"
   ]
  },
  {
   "cell_type": "code",
   "execution_count": 181,
   "metadata": {},
   "outputs": [
    {
     "name": "stdout",
     "output_type": "stream",
     "text": [
      "<class 'pandas.core.frame.DataFrame'>\n",
      "RangeIndex: 77554 entries, 0 to 77553\n",
      "Columns: 191 entries, dur to state_no\n",
      "dtypes: float64(188), int64(3)\n",
      "memory usage: 113.0 MB\n"
     ]
    }
   ],
   "source": [
    "from sklearn.preprocessing import OneHotEncoder\n",
    "\n",
    "\n",
    "encoder = OneHotEncoder(sparse_output=False, handle_unknown= 'ignore')\n",
    "encoder = encoder.fit(df[categorical_columns])\n",
    "one_hot_encoded = encoder.transform(df[categorical_columns])\n",
    "\n",
    "one_hot_df = pd.DataFrame(one_hot_encoded, columns=encoder.get_feature_names_out(categorical_columns))\n",
    "\n",
    "df_encoded = pd.concat([df, one_hot_df], axis=1 )\n",
    "df_encoded = df_encoded.drop(categorical_columns, axis=1)\n",
    "df_encoded.info()\n"
   ]
  },
  {
   "cell_type": "markdown",
   "metadata": {},
   "source": [
    "# Training, Validation, and Test Sets"
   ]
  },
  {
   "cell_type": "code",
   "execution_count": 182,
   "metadata": {},
   "outputs": [
    {
     "name": "stdout",
     "output_type": "stream",
     "text": [
      "<class 'pandas.core.frame.DataFrame'>\n",
      "RangeIndex: 77554 entries, 0 to 77553\n",
      "Columns: 190 entries, dur to state_no\n",
      "dtypes: float64(188), int64(2)\n",
      "memory usage: 112.4 MB\n"
     ]
    }
   ],
   "source": [
    "y = df_encoded.label\n",
    "X = df_encoded.loc[:,df_encoded.columns != \"label\"]\n",
    "X.info()"
   ]
  },
  {
   "cell_type": "code",
   "execution_count": 183,
   "metadata": {},
   "outputs": [],
   "source": [
    "X_train, X_test, y_train, y_test = train_test_split(X, y, test_size=0.2, random_state=5601)\n",
    "X_train, X_val, y_train, y_val = train_test_split(X_train, y_train, test_size=0.25, random_state=5601) "
   ]
  },
  {
   "cell_type": "code",
   "execution_count": 184,
   "metadata": {},
   "outputs": [
    {
     "name": "stdout",
     "output_type": "stream",
     "text": [
      "<class 'pandas.core.frame.DataFrame'>\n",
      "Index: 46532 entries, 52549 to 76962\n",
      "Columns: 190 entries, dur to state_no\n",
      "dtypes: float64(188), int64(2)\n",
      "memory usage: 67.8 MB\n",
      "None\n",
      "<class 'pandas.core.frame.DataFrame'>\n",
      "Index: 15511 entries, 69587 to 30489\n",
      "Columns: 190 entries, dur to state_no\n",
      "dtypes: float64(188), int64(2)\n",
      "memory usage: 22.6 MB\n",
      "None\n",
      "<class 'pandas.core.frame.DataFrame'>\n",
      "Index: 15511 entries, 20303 to 39932\n",
      "Columns: 190 entries, dur to state_no\n",
      "dtypes: float64(188), int64(2)\n",
      "memory usage: 22.6 MB\n",
      "None\n"
     ]
    }
   ],
   "source": [
    "print(X_train.info())\n",
    "print(X_val.info())\n",
    "print(X_test.info())"
   ]
  },
  {
   "cell_type": "code",
   "execution_count": 185,
   "metadata": {},
   "outputs": [
    {
     "name": "stdout",
     "output_type": "stream",
     "text": [
      "<class 'pandas.core.frame.DataFrame'>\n",
      "Index: 46532 entries, 52549 to 76962\n",
      "Columns: 191 entries, dur to label\n",
      "dtypes: float64(188), int64(3)\n",
      "memory usage: 68.2 MB\n",
      "None\n",
      "<class 'pandas.core.frame.DataFrame'>\n",
      "Index: 15511 entries, 69587 to 30489\n",
      "Columns: 191 entries, dur to label\n",
      "dtypes: float64(188), int64(3)\n",
      "memory usage: 22.7 MB\n",
      "None\n",
      "<class 'pandas.core.frame.DataFrame'>\n",
      "Index: 15511 entries, 20303 to 39932\n",
      "Columns: 191 entries, dur to label\n",
      "dtypes: float64(188), int64(3)\n",
      "memory usage: 22.7 MB\n",
      "None\n"
     ]
    }
   ],
   "source": [
    "# Save the data to arff\n",
    "import arff\n",
    "#training\n",
    "#join file back\n",
    "train_df = pd.concat([X_train,y_train],axis = 1)\n",
    "print(train_df.info())\n",
    "arff.dump('Training.arff'\n",
    "      , train_df.values\n",
    "      ,relation='relation name'\n",
    "      , names=train_df.columns)\n",
    "\n",
    "#validation\n",
    "val_df = pd.concat([X_val,y_val],axis = 1)\n",
    "print(val_df.info())\n",
    "arff.dump('Validation.arff'\n",
    "      , val_df.values\n",
    "      ,relation='relation name'\n",
    "      , names=val_df.columns)\n",
    "\n",
    "#testing\n",
    "test_df = pd.concat([X_test,y_test],axis = 1)\n",
    "print(test_df.info())\n",
    "arff.dump('Test.arff'\n",
    "      , test_df.values\n",
    "      ,relation='relation name'\n",
    "      , names=test_df.columns)\n"
   ]
  },
  {
   "cell_type": "markdown",
   "metadata": {},
   "source": [
    "#  k-NN"
   ]
  },
  {
   "cell_type": "code",
   "execution_count": 186,
   "metadata": {},
   "outputs": [
    {
     "data": {
      "text/html": [
       "<style>#sk-container-id-3 {color: black;background-color: white;}#sk-container-id-3 pre{padding: 0;}#sk-container-id-3 div.sk-toggleable {background-color: white;}#sk-container-id-3 label.sk-toggleable__label {cursor: pointer;display: block;width: 100%;margin-bottom: 0;padding: 0.3em;box-sizing: border-box;text-align: center;}#sk-container-id-3 label.sk-toggleable__label-arrow:before {content: \"▸\";float: left;margin-right: 0.25em;color: #696969;}#sk-container-id-3 label.sk-toggleable__label-arrow:hover:before {color: black;}#sk-container-id-3 div.sk-estimator:hover label.sk-toggleable__label-arrow:before {color: black;}#sk-container-id-3 div.sk-toggleable__content {max-height: 0;max-width: 0;overflow: hidden;text-align: left;background-color: #f0f8ff;}#sk-container-id-3 div.sk-toggleable__content pre {margin: 0.2em;color: black;border-radius: 0.25em;background-color: #f0f8ff;}#sk-container-id-3 input.sk-toggleable__control:checked~div.sk-toggleable__content {max-height: 200px;max-width: 100%;overflow: auto;}#sk-container-id-3 input.sk-toggleable__control:checked~label.sk-toggleable__label-arrow:before {content: \"▾\";}#sk-container-id-3 div.sk-estimator input.sk-toggleable__control:checked~label.sk-toggleable__label {background-color: #d4ebff;}#sk-container-id-3 div.sk-label input.sk-toggleable__control:checked~label.sk-toggleable__label {background-color: #d4ebff;}#sk-container-id-3 input.sk-hidden--visually {border: 0;clip: rect(1px 1px 1px 1px);clip: rect(1px, 1px, 1px, 1px);height: 1px;margin: -1px;overflow: hidden;padding: 0;position: absolute;width: 1px;}#sk-container-id-3 div.sk-estimator {font-family: monospace;background-color: #f0f8ff;border: 1px dotted black;border-radius: 0.25em;box-sizing: border-box;margin-bottom: 0.5em;}#sk-container-id-3 div.sk-estimator:hover {background-color: #d4ebff;}#sk-container-id-3 div.sk-parallel-item::after {content: \"\";width: 100%;border-bottom: 1px solid gray;flex-grow: 1;}#sk-container-id-3 div.sk-label:hover label.sk-toggleable__label {background-color: #d4ebff;}#sk-container-id-3 div.sk-serial::before {content: \"\";position: absolute;border-left: 1px solid gray;box-sizing: border-box;top: 0;bottom: 0;left: 50%;z-index: 0;}#sk-container-id-3 div.sk-serial {display: flex;flex-direction: column;align-items: center;background-color: white;padding-right: 0.2em;padding-left: 0.2em;position: relative;}#sk-container-id-3 div.sk-item {position: relative;z-index: 1;}#sk-container-id-3 div.sk-parallel {display: flex;align-items: stretch;justify-content: center;background-color: white;position: relative;}#sk-container-id-3 div.sk-item::before, #sk-container-id-3 div.sk-parallel-item::before {content: \"\";position: absolute;border-left: 1px solid gray;box-sizing: border-box;top: 0;bottom: 0;left: 50%;z-index: -1;}#sk-container-id-3 div.sk-parallel-item {display: flex;flex-direction: column;z-index: 1;position: relative;background-color: white;}#sk-container-id-3 div.sk-parallel-item:first-child::after {align-self: flex-end;width: 50%;}#sk-container-id-3 div.sk-parallel-item:last-child::after {align-self: flex-start;width: 50%;}#sk-container-id-3 div.sk-parallel-item:only-child::after {width: 0;}#sk-container-id-3 div.sk-dashed-wrapped {border: 1px dashed gray;margin: 0 0.4em 0.5em 0.4em;box-sizing: border-box;padding-bottom: 0.4em;background-color: white;}#sk-container-id-3 div.sk-label label {font-family: monospace;font-weight: bold;display: inline-block;line-height: 1.2em;}#sk-container-id-3 div.sk-label-container {text-align: center;}#sk-container-id-3 div.sk-container {/* jupyter's `normalize.less` sets `[hidden] { display: none; }` but bootstrap.min.css set `[hidden] { display: none !important; }` so we also need the `!important` here to be able to override the default hidden behavior on the sphinx rendered scikit-learn.org. See: https://github.com/scikit-learn/scikit-learn/issues/21755 */display: inline-block !important;position: relative;}#sk-container-id-3 div.sk-text-repr-fallback {display: none;}</style><div id=\"sk-container-id-3\" class=\"sk-top-container\"><div class=\"sk-text-repr-fallback\"><pre>KNeighborsClassifier(n_neighbors=3)</pre><b>In a Jupyter environment, please rerun this cell to show the HTML representation or trust the notebook. <br />On GitHub, the HTML representation is unable to render, please try loading this page with nbviewer.org.</b></div><div class=\"sk-container\" hidden><div class=\"sk-item\"><div class=\"sk-estimator sk-toggleable\"><input class=\"sk-toggleable__control sk-hidden--visually\" id=\"sk-estimator-id-3\" type=\"checkbox\" checked><label for=\"sk-estimator-id-3\" class=\"sk-toggleable__label sk-toggleable__label-arrow\">KNeighborsClassifier</label><div class=\"sk-toggleable__content\"><pre>KNeighborsClassifier(n_neighbors=3)</pre></div></div></div></div></div>"
      ],
      "text/plain": [
       "KNeighborsClassifier(n_neighbors=3)"
      ]
     },
     "execution_count": 186,
     "metadata": {},
     "output_type": "execute_result"
    }
   ],
   "source": [
    "from sklearn.neighbors import KNeighborsClassifier\n",
    "knn = KNeighborsClassifier(n_neighbors=3)\n",
    "knn.fit(X_train, y_train)"
   ]
  },
  {
   "cell_type": "code",
   "execution_count": 187,
   "metadata": {},
   "outputs": [],
   "source": [
    "y_pred_knn = knn.predict(X_test)"
   ]
  },
  {
   "cell_type": "code",
   "execution_count": 188,
   "metadata": {},
   "outputs": [
    {
     "name": "stdout",
     "output_type": "stream",
     "text": [
      "[[7665  122]\n",
      " [  57 7667]]\n",
      "              precision    recall  f1-score   support\n",
      "\n",
      "           0       0.99      0.98      0.99      7787\n",
      "           1       0.98      0.99      0.99      7724\n",
      "\n",
      "    accuracy                           0.99     15511\n",
      "   macro avg       0.99      0.99      0.99     15511\n",
      "weighted avg       0.99      0.99      0.99     15511\n",
      "\n"
     ]
    }
   ],
   "source": [
    "from sklearn.metrics import classification_report, confusion_matrix\n",
    "print(confusion_matrix(y_test, y_pred_knn))\n",
    "print(classification_report(y_test, y_pred_knn))"
   ]
  },
  {
   "cell_type": "markdown",
   "metadata": {},
   "source": [
    "#  Naive Bayes"
   ]
  },
  {
   "cell_type": "code",
   "execution_count": 189,
   "metadata": {},
   "outputs": [
    {
     "data": {
      "text/html": [
       "<style>#sk-container-id-4 {color: black;background-color: white;}#sk-container-id-4 pre{padding: 0;}#sk-container-id-4 div.sk-toggleable {background-color: white;}#sk-container-id-4 label.sk-toggleable__label {cursor: pointer;display: block;width: 100%;margin-bottom: 0;padding: 0.3em;box-sizing: border-box;text-align: center;}#sk-container-id-4 label.sk-toggleable__label-arrow:before {content: \"▸\";float: left;margin-right: 0.25em;color: #696969;}#sk-container-id-4 label.sk-toggleable__label-arrow:hover:before {color: black;}#sk-container-id-4 div.sk-estimator:hover label.sk-toggleable__label-arrow:before {color: black;}#sk-container-id-4 div.sk-toggleable__content {max-height: 0;max-width: 0;overflow: hidden;text-align: left;background-color: #f0f8ff;}#sk-container-id-4 div.sk-toggleable__content pre {margin: 0.2em;color: black;border-radius: 0.25em;background-color: #f0f8ff;}#sk-container-id-4 input.sk-toggleable__control:checked~div.sk-toggleable__content {max-height: 200px;max-width: 100%;overflow: auto;}#sk-container-id-4 input.sk-toggleable__control:checked~label.sk-toggleable__label-arrow:before {content: \"▾\";}#sk-container-id-4 div.sk-estimator input.sk-toggleable__control:checked~label.sk-toggleable__label {background-color: #d4ebff;}#sk-container-id-4 div.sk-label input.sk-toggleable__control:checked~label.sk-toggleable__label {background-color: #d4ebff;}#sk-container-id-4 input.sk-hidden--visually {border: 0;clip: rect(1px 1px 1px 1px);clip: rect(1px, 1px, 1px, 1px);height: 1px;margin: -1px;overflow: hidden;padding: 0;position: absolute;width: 1px;}#sk-container-id-4 div.sk-estimator {font-family: monospace;background-color: #f0f8ff;border: 1px dotted black;border-radius: 0.25em;box-sizing: border-box;margin-bottom: 0.5em;}#sk-container-id-4 div.sk-estimator:hover {background-color: #d4ebff;}#sk-container-id-4 div.sk-parallel-item::after {content: \"\";width: 100%;border-bottom: 1px solid gray;flex-grow: 1;}#sk-container-id-4 div.sk-label:hover label.sk-toggleable__label {background-color: #d4ebff;}#sk-container-id-4 div.sk-serial::before {content: \"\";position: absolute;border-left: 1px solid gray;box-sizing: border-box;top: 0;bottom: 0;left: 50%;z-index: 0;}#sk-container-id-4 div.sk-serial {display: flex;flex-direction: column;align-items: center;background-color: white;padding-right: 0.2em;padding-left: 0.2em;position: relative;}#sk-container-id-4 div.sk-item {position: relative;z-index: 1;}#sk-container-id-4 div.sk-parallel {display: flex;align-items: stretch;justify-content: center;background-color: white;position: relative;}#sk-container-id-4 div.sk-item::before, #sk-container-id-4 div.sk-parallel-item::before {content: \"\";position: absolute;border-left: 1px solid gray;box-sizing: border-box;top: 0;bottom: 0;left: 50%;z-index: -1;}#sk-container-id-4 div.sk-parallel-item {display: flex;flex-direction: column;z-index: 1;position: relative;background-color: white;}#sk-container-id-4 div.sk-parallel-item:first-child::after {align-self: flex-end;width: 50%;}#sk-container-id-4 div.sk-parallel-item:last-child::after {align-self: flex-start;width: 50%;}#sk-container-id-4 div.sk-parallel-item:only-child::after {width: 0;}#sk-container-id-4 div.sk-dashed-wrapped {border: 1px dashed gray;margin: 0 0.4em 0.5em 0.4em;box-sizing: border-box;padding-bottom: 0.4em;background-color: white;}#sk-container-id-4 div.sk-label label {font-family: monospace;font-weight: bold;display: inline-block;line-height: 1.2em;}#sk-container-id-4 div.sk-label-container {text-align: center;}#sk-container-id-4 div.sk-container {/* jupyter's `normalize.less` sets `[hidden] { display: none; }` but bootstrap.min.css set `[hidden] { display: none !important; }` so we also need the `!important` here to be able to override the default hidden behavior on the sphinx rendered scikit-learn.org. See: https://github.com/scikit-learn/scikit-learn/issues/21755 */display: inline-block !important;position: relative;}#sk-container-id-4 div.sk-text-repr-fallback {display: none;}</style><div id=\"sk-container-id-4\" class=\"sk-top-container\"><div class=\"sk-text-repr-fallback\"><pre>GaussianNB()</pre><b>In a Jupyter environment, please rerun this cell to show the HTML representation or trust the notebook. <br />On GitHub, the HTML representation is unable to render, please try loading this page with nbviewer.org.</b></div><div class=\"sk-container\" hidden><div class=\"sk-item\"><div class=\"sk-estimator sk-toggleable\"><input class=\"sk-toggleable__control sk-hidden--visually\" id=\"sk-estimator-id-4\" type=\"checkbox\" checked><label for=\"sk-estimator-id-4\" class=\"sk-toggleable__label sk-toggleable__label-arrow\">GaussianNB</label><div class=\"sk-toggleable__content\"><pre>GaussianNB()</pre></div></div></div></div></div>"
      ],
      "text/plain": [
       "GaussianNB()"
      ]
     },
     "execution_count": 189,
     "metadata": {},
     "output_type": "execute_result"
    }
   ],
   "source": [
    "from sklearn.naive_bayes import GaussianNB\n",
    "nb = GaussianNB()\n",
    "nb.fit(X_train, y_train)"
   ]
  },
  {
   "cell_type": "code",
   "execution_count": 190,
   "metadata": {},
   "outputs": [],
   "source": [
    "y_pred_nb = nb.predict(X_test)"
   ]
  },
  {
   "cell_type": "code",
   "execution_count": 191,
   "metadata": {},
   "outputs": [
    {
     "data": {
      "text/plain": [
       "array([[7787,    0],\n",
       "       [6139, 1585]], dtype=int64)"
      ]
     },
     "execution_count": 191,
     "metadata": {},
     "output_type": "execute_result"
    }
   ],
   "source": [
    "confusion_matrix(y_test, y_pred_nb)"
   ]
  },
  {
   "cell_type": "code",
   "execution_count": 192,
   "metadata": {},
   "outputs": [
    {
     "name": "stdout",
     "output_type": "stream",
     "text": [
      "              precision    recall  f1-score   support\n",
      "\n",
      "           0       0.56      1.00      0.72      7787\n",
      "           1       1.00      0.21      0.34      7724\n",
      "\n",
      "    accuracy                           0.60     15511\n",
      "   macro avg       0.78      0.60      0.53     15511\n",
      "weighted avg       0.78      0.60      0.53     15511\n",
      "\n"
     ]
    }
   ],
   "source": [
    "print(classification_report(y_test, y_pred_nb))"
   ]
  },
  {
   "cell_type": "markdown",
   "metadata": {},
   "source": [
    "#  Decision Trees"
   ]
  },
  {
   "cell_type": "code",
   "execution_count": 193,
   "metadata": {},
   "outputs": [],
   "source": [
    "from sklearn.tree import DecisionTreeClassifier\n",
    "tree = DecisionTreeClassifier(random_state=5601)\n",
    "tree = tree.fit(X_train, y_train)"
   ]
  },
  {
   "cell_type": "code",
   "execution_count": 194,
   "metadata": {},
   "outputs": [],
   "source": [
    "y_pred_tree = tree.predict(X_test)"
   ]
  },
  {
   "cell_type": "code",
   "execution_count": 195,
   "metadata": {},
   "outputs": [
    {
     "data": {
      "text/plain": [
       "array([[7714,   73],\n",
       "       [  76, 7648]], dtype=int64)"
      ]
     },
     "execution_count": 195,
     "metadata": {},
     "output_type": "execute_result"
    }
   ],
   "source": [
    "confusion_matrix(y_test, y_pred_tree)"
   ]
  },
  {
   "cell_type": "code",
   "execution_count": 196,
   "metadata": {},
   "outputs": [
    {
     "name": "stdout",
     "output_type": "stream",
     "text": [
      "              precision    recall  f1-score   support\n",
      "\n",
      "           0       0.99      0.99      0.99      7787\n",
      "           1       0.99      0.99      0.99      7724\n",
      "\n",
      "    accuracy                           0.99     15511\n",
      "   macro avg       0.99      0.99      0.99     15511\n",
      "weighted avg       0.99      0.99      0.99     15511\n",
      "\n"
     ]
    }
   ],
   "source": [
    "print(classification_report(y_test, y_pred_tree))"
   ]
  },
  {
   "cell_type": "markdown",
   "metadata": {},
   "source": [
    "# Cross validation"
   ]
  },
  {
   "cell_type": "code",
   "execution_count": 197,
   "metadata": {},
   "outputs": [],
   "source": [
    "from sklearn.model_selection import cross_val_score"
   ]
  },
  {
   "cell_type": "markdown",
   "metadata": {},
   "source": [
    "## knn"
   ]
  },
  {
   "cell_type": "code",
   "execution_count": 198,
   "metadata": {},
   "outputs": [],
   "source": [
    "n_neighbors_list = [3, 5, 10, 20, 50,100,200,500,1000]\n",
    "knns_cv_result = []\n",
    "\n",
    "for i in n_neighbors_list:\n",
    "    \n",
    "    model = KNeighborsClassifier(n_neighbors=i)\n",
    "    scores = cross_val_score(model, X_val,y_val,cv = 5)\n",
    "    knns_cv_result.append({\n",
    "        \"n_neighbors\": i,\n",
    "        \"Mean CV Score\": scores.mean(),\n",
    "        \"Std CV Score\": scores.std()\n",
    "    })\n",
    "score_knns_cv = pd.DataFrame(knns_cv_result)"
   ]
  },
  {
   "cell_type": "code",
   "execution_count": 199,
   "metadata": {},
   "outputs": [
    {
     "data": {
      "text/html": [
       "<div>\n",
       "<style scoped>\n",
       "    .dataframe tbody tr th:only-of-type {\n",
       "        vertical-align: middle;\n",
       "    }\n",
       "\n",
       "    .dataframe tbody tr th {\n",
       "        vertical-align: top;\n",
       "    }\n",
       "\n",
       "    .dataframe thead th {\n",
       "        text-align: right;\n",
       "    }\n",
       "</style>\n",
       "<table border=\"1\" class=\"dataframe\">\n",
       "  <thead>\n",
       "    <tr style=\"text-align: right;\">\n",
       "      <th></th>\n",
       "      <th>n_neighbors</th>\n",
       "      <th>Mean CV Score</th>\n",
       "      <th>Std CV Score</th>\n",
       "    </tr>\n",
       "  </thead>\n",
       "  <tbody>\n",
       "    <tr>\n",
       "      <th>0</th>\n",
       "      <td>3</td>\n",
       "      <td>0.988653</td>\n",
       "      <td>0.002052</td>\n",
       "    </tr>\n",
       "    <tr>\n",
       "      <th>1</th>\n",
       "      <td>5</td>\n",
       "      <td>0.989040</td>\n",
       "      <td>0.001966</td>\n",
       "    </tr>\n",
       "    <tr>\n",
       "      <th>2</th>\n",
       "      <td>10</td>\n",
       "      <td>0.988137</td>\n",
       "      <td>0.002450</td>\n",
       "    </tr>\n",
       "    <tr>\n",
       "      <th>3</th>\n",
       "      <td>20</td>\n",
       "      <td>0.987493</td>\n",
       "      <td>0.002739</td>\n",
       "    </tr>\n",
       "    <tr>\n",
       "      <th>4</th>\n",
       "      <td>50</td>\n",
       "      <td>0.986397</td>\n",
       "      <td>0.002700</td>\n",
       "    </tr>\n",
       "    <tr>\n",
       "      <th>5</th>\n",
       "      <td>100</td>\n",
       "      <td>0.984720</td>\n",
       "      <td>0.002312</td>\n",
       "    </tr>\n",
       "    <tr>\n",
       "      <th>6</th>\n",
       "      <td>200</td>\n",
       "      <td>0.972213</td>\n",
       "      <td>0.001746</td>\n",
       "    </tr>\n",
       "    <tr>\n",
       "      <th>7</th>\n",
       "      <td>500</td>\n",
       "      <td>0.967507</td>\n",
       "      <td>0.007513</td>\n",
       "    </tr>\n",
       "    <tr>\n",
       "      <th>8</th>\n",
       "      <td>1000</td>\n",
       "      <td>0.960286</td>\n",
       "      <td>0.002156</td>\n",
       "    </tr>\n",
       "  </tbody>\n",
       "</table>\n",
       "</div>"
      ],
      "text/plain": [
       "   n_neighbors  Mean CV Score  Std CV Score\n",
       "0            3       0.988653      0.002052\n",
       "1            5       0.989040      0.001966\n",
       "2           10       0.988137      0.002450\n",
       "3           20       0.987493      0.002739\n",
       "4           50       0.986397      0.002700\n",
       "5          100       0.984720      0.002312\n",
       "6          200       0.972213      0.001746\n",
       "7          500       0.967507      0.007513\n",
       "8         1000       0.960286      0.002156"
      ]
     },
     "execution_count": 199,
     "metadata": {},
     "output_type": "execute_result"
    }
   ],
   "source": [
    "score_knns_cv"
   ]
  },
  {
   "cell_type": "markdown",
   "metadata": {},
   "source": [
    "## Naive Bayes"
   ]
  },
  {
   "cell_type": "code",
   "execution_count": 200,
   "metadata": {},
   "outputs": [
    {
     "data": {
      "text/plain": [
       "0.6027334459092333"
      ]
     },
     "execution_count": 200,
     "metadata": {},
     "output_type": "execute_result"
    }
   ],
   "source": [
    "nb_cv = GaussianNB()\n",
    "scores_nb_cv= cross_val_score(nb_cv, X_val,y_val,cv = 5)\n",
    "scores_nb_cv.mean()"
   ]
  },
  {
   "cell_type": "markdown",
   "metadata": {},
   "source": [
    "## Desiction Tree"
   ]
  },
  {
   "cell_type": "code",
   "execution_count": 201,
   "metadata": {},
   "outputs": [
    {
     "name": "stdout",
     "output_type": "stream",
     "text": [
      "Fitting 5 folds for each of 900 candidates, totalling 4500 fits\n",
      "best accuracy 0.9893623254715127\n",
      "DecisionTreeClassifier(max_depth=10, min_samples_split=20, random_state=5601)\n"
     ]
    }
   ],
   "source": [
    "from sklearn.model_selection import GridSearchCV\n",
    "param_grid = {\n",
    "    'max_depth': [1,2,5,10,20,50,100,200,500,1000],\n",
    "    'min_samples_leaf': [1,2,5,10,20,50,100,200,500,1000],\n",
    "    'min_samples_split': [2,5,10,20,50,100,200,500,1000],\n",
    "}\n",
    "tree = DecisionTreeClassifier(random_state=5601)\n",
    "grid_search = GridSearchCV(estimator=tree, param_grid=param_grid, \n",
    "                           cv=5, verbose=True)\n",
    "grid_search.fit(X_val, y_val)\n",
    "\n",
    "# Best score and estimator\n",
    "print(\"best accuracy\", grid_search.best_score_)\n",
    "print(grid_search.best_estimator_)"
   ]
  },
  {
   "cell_type": "markdown",
   "metadata": {},
   "source": [
    "## compare all of the best 3 models"
   ]
  },
  {
   "cell_type": "code",
   "execution_count": 202,
   "metadata": {},
   "outputs": [
    {
     "data": {
      "text/html": [
       "<div>\n",
       "<style scoped>\n",
       "    .dataframe tbody tr th:only-of-type {\n",
       "        vertical-align: middle;\n",
       "    }\n",
       "\n",
       "    .dataframe tbody tr th {\n",
       "        vertical-align: top;\n",
       "    }\n",
       "\n",
       "    .dataframe thead th {\n",
       "        text-align: right;\n",
       "    }\n",
       "</style>\n",
       "<table border=\"1\" class=\"dataframe\">\n",
       "  <thead>\n",
       "    <tr style=\"text-align: right;\">\n",
       "      <th></th>\n",
       "      <th>Model</th>\n",
       "      <th>mean CV score</th>\n",
       "      <th>std CV score</th>\n",
       "    </tr>\n",
       "  </thead>\n",
       "  <tbody>\n",
       "    <tr>\n",
       "      <th>0</th>\n",
       "      <td>5nn</td>\n",
       "      <td>0.989040</td>\n",
       "      <td>0.001966</td>\n",
       "    </tr>\n",
       "    <tr>\n",
       "      <th>1</th>\n",
       "      <td>nb</td>\n",
       "      <td>0.602733</td>\n",
       "      <td>0.005904</td>\n",
       "    </tr>\n",
       "    <tr>\n",
       "      <th>2</th>\n",
       "      <td>btree</td>\n",
       "      <td>0.989362</td>\n",
       "      <td>0.001619</td>\n",
       "    </tr>\n",
       "  </tbody>\n",
       "</table>\n",
       "</div>"
      ],
      "text/plain": [
       "   Model  mean CV score  std CV score\n",
       "0    5nn       0.989040      0.001966\n",
       "1     nb       0.602733      0.005904\n",
       "2  btree       0.989362      0.001619"
      ]
     },
     "execution_count": 202,
     "metadata": {},
     "output_type": "execute_result"
    }
   ],
   "source": [
    "result_cv = []\n",
    "knn5 =KNeighborsClassifier(n_neighbors= 5)\n",
    "score_knn5_cv = cross_val_score(knn5, X_val,y_val,cv = 5)\n",
    "result_cv.append({\n",
    "    \"Model\": \"5nn\",\n",
    "    \"mean CV score\" : score_knn5_cv.mean(),\n",
    "    \"std CV score\" : score_knn5_cv.std()\n",
    "})\n",
    "result_cv.append({\n",
    "    \"Model\": \"nb\",\n",
    "    \"mean CV score\" : scores_nb_cv.mean(),\n",
    "    \"std CV score\" : scores_nb_cv.std()\n",
    "})\n",
    "btree =DecisionTreeClassifier(max_depth=10, min_samples_split=20, random_state=5601)\n",
    "score_btree_cv = cross_val_score(btree, X_val,y_val,cv = 5)\n",
    "result_cv.append({\n",
    "    \"Model\": \"btree\",\n",
    "    \"mean CV score\" : score_btree_cv.mean(),\n",
    "    \"std CV score\" : score_btree_cv.std()\n",
    "})\n",
    "cv_df = pd.DataFrame(result_cv)\n",
    "cv_df"
   ]
  },
  {
   "cell_type": "markdown",
   "metadata": {},
   "source": [
    "# Classifier comparison"
   ]
  },
  {
   "cell_type": "code",
   "execution_count": 203,
   "metadata": {},
   "outputs": [
    {
     "name": "stdout",
     "output_type": "stream",
     "text": [
      "5nn\n",
      "[[7657  130]\n",
      " [  49 7675]]\n",
      "nb\n",
      "[[7787    0]\n",
      " [6139 1585]]\n",
      "btree\n",
      "[[7678  109]\n",
      " [  35 7689]]\n"
     ]
    }
   ],
   "source": [
    "# confusion martrix\n",
    "# recreate best models from each knn\n",
    "knn5 =KNeighborsClassifier(n_neighbors= 5)\n",
    "knn5 = knn5.fit(X_train,y_train)\n",
    "y_pred_5nn =  knn5.predict(X_test)\n",
    "print(\"5nn\")\n",
    "print(confusion_matrix(y_test, y_pred_5nn))\n",
    "\n",
    "#nb have only one model\n",
    "print(\"nb\")\n",
    "print(confusion_matrix(y_test, y_pred_nb))\n",
    "\n",
    "# recreate best models from each decision tree\n",
    "btree =DecisionTreeClassifier(max_depth=10, min_samples_split=20, random_state=5601)\n",
    "btree = btree.fit(X_train,y_train)\n",
    "y_pred_btree =  btree.predict(X_test)\n",
    "print(\"btree\")\n",
    "print(confusion_matrix(y_test, y_pred_btree))"
   ]
  },
  {
   "cell_type": "code",
   "execution_count": 204,
   "metadata": {},
   "outputs": [
    {
     "data": {
      "text/html": [
       "<div>\n",
       "<style scoped>\n",
       "    .dataframe tbody tr th:only-of-type {\n",
       "        vertical-align: middle;\n",
       "    }\n",
       "\n",
       "    .dataframe tbody tr th {\n",
       "        vertical-align: top;\n",
       "    }\n",
       "\n",
       "    .dataframe thead th {\n",
       "        text-align: right;\n",
       "    }\n",
       "</style>\n",
       "<table border=\"1\" class=\"dataframe\">\n",
       "  <thead>\n",
       "    <tr style=\"text-align: right;\">\n",
       "      <th></th>\n",
       "      <th>Model</th>\n",
       "      <th>Accuracy</th>\n",
       "      <th>Precision</th>\n",
       "      <th>F1</th>\n",
       "    </tr>\n",
       "  </thead>\n",
       "  <tbody>\n",
       "    <tr>\n",
       "      <th>0</th>\n",
       "      <td>5nn</td>\n",
       "      <td>0.988460</td>\n",
       "      <td>0.983344</td>\n",
       "      <td>0.988461</td>\n",
       "    </tr>\n",
       "    <tr>\n",
       "      <th>1</th>\n",
       "      <td>nb</td>\n",
       "      <td>0.604216</td>\n",
       "      <td>1.000000</td>\n",
       "      <td>0.340531</td>\n",
       "    </tr>\n",
       "    <tr>\n",
       "      <th>2</th>\n",
       "      <td>tree</td>\n",
       "      <td>0.990394</td>\n",
       "      <td>0.990545</td>\n",
       "      <td>0.990353</td>\n",
       "    </tr>\n",
       "  </tbody>\n",
       "</table>\n",
       "</div>"
      ],
      "text/plain": [
       "  Model  Accuracy  Precision        F1\n",
       "0   5nn  0.988460   0.983344  0.988461\n",
       "1    nb  0.604216   1.000000  0.340531\n",
       "2  tree  0.990394   0.990545  0.990353"
      ]
     },
     "execution_count": 204,
     "metadata": {},
     "output_type": "execute_result"
    }
   ],
   "source": [
    "from sklearn.metrics import accuracy_score,precision_score,f1_score\n",
    "result = []\n",
    "result.append({\n",
    "        \"Model\": \"5nn\",\n",
    "        \"Accuracy\": accuracy_score(y_test,y_pred_5nn),\n",
    "        \"Precision\": precision_score(y_test,y_pred_5nn),\n",
    "        \"F1\" :f1_score(y_test,y_pred_knn)\n",
    "        })\n",
    "result.append({\n",
    "        \"Model\": \"nb\",\n",
    "        \"Accuracy\": accuracy_score(y_test,y_pred_nb),\n",
    "        \"Precision\": precision_score(y_test,y_pred_nb),\n",
    "        \"F1\" :f1_score(y_test,y_pred_nb)\n",
    "        })\n",
    "result.append({\n",
    "        \"Model\": \"tree\",\n",
    "        \"Accuracy\": accuracy_score(y_test,y_pred_tree),\n",
    "        \"Precision\": precision_score(y_test,y_pred_tree),\n",
    "        \"F1\" :f1_score(y_test,y_pred_tree)\n",
    "        })\n",
    "compair_df = pd.DataFrame(result)\n",
    "compair_df"
   ]
  },
  {
   "cell_type": "markdown",
   "metadata": {},
   "source": [
    "# Test Set import and transformation"
   ]
  },
  {
   "cell_type": "code",
   "execution_count": 205,
   "metadata": {},
   "outputs": [],
   "source": [
    "test1  = pd.read_excel('Test-Data-Set-1-2024.xlsx')\n",
    "test2  = pd.read_excel('Test-Data-Set-2-2024.xlsx')"
   ]
  },
  {
   "cell_type": "code",
   "execution_count": 206,
   "metadata": {},
   "outputs": [
    {
     "name": "stdout",
     "output_type": "stream",
     "text": [
      "<class 'pandas.core.frame.DataFrame'>\n",
      "RangeIndex: 59807 entries, 0 to 59806\n",
      "Data columns (total 44 columns):\n",
      " #   Column             Non-Null Count  Dtype  \n",
      "---  ------             --------------  -----  \n",
      " 0   dur                59807 non-null  float64\n",
      " 1   proto              59807 non-null  object \n",
      " 2   service            59807 non-null  object \n",
      " 3   state              59807 non-null  object \n",
      " 4   spkts              59807 non-null  int64  \n",
      " 5   dpkts              59807 non-null  int64  \n",
      " 6   sbytes             59807 non-null  int64  \n",
      " 7   dbytes             59807 non-null  int64  \n",
      " 8   rate               59807 non-null  float64\n",
      " 9   sttl               59807 non-null  int64  \n",
      " 10  dttl               59807 non-null  int64  \n",
      " 11  sload              59807 non-null  float64\n",
      " 12  dload              59807 non-null  float64\n",
      " 13  sloss              59807 non-null  int64  \n",
      " 14  dloss              59807 non-null  int64  \n",
      " 15  sinpkt             59807 non-null  float64\n",
      " 16  dinpkt             59807 non-null  float64\n",
      " 17  sjit               59807 non-null  float64\n",
      " 18  djit               59807 non-null  float64\n",
      " 19  swin               59807 non-null  int64  \n",
      " 20  stcpb              59807 non-null  int64  \n",
      " 21  dtcpb              59807 non-null  int64  \n",
      " 22  dwin               59807 non-null  int64  \n",
      " 23  tcprtt             59807 non-null  float64\n",
      " 24  synack             59807 non-null  float64\n",
      " 25  ackdat             59807 non-null  float64\n",
      " 26  smean              59807 non-null  int64  \n",
      " 27  dmean              59807 non-null  int64  \n",
      " 28  trans_depth        59807 non-null  int64  \n",
      " 29  response_body_len  59807 non-null  int64  \n",
      " 30  ct_srv_src         59807 non-null  int64  \n",
      " 31  ct_state_ttl       59807 non-null  int64  \n",
      " 32  ct_dst_ltm         59807 non-null  int64  \n",
      " 33  ct_src_dport_ltm   59807 non-null  int64  \n",
      " 34  ct_dst_sport_ltm   59807 non-null  int64  \n",
      " 35  ct_dst_src_ltm     59807 non-null  int64  \n",
      " 36  is_ftp_login       59807 non-null  int64  \n",
      " 37  ct_ftp_cmd         59807 non-null  int64  \n",
      " 38  ct_flw_http_mthd   59807 non-null  int64  \n",
      " 39  ct_src_ltm         59807 non-null  int64  \n",
      " 40  ct_srv_dst         59807 non-null  int64  \n",
      " 41  is_sm_ips_ports    59807 non-null  int64  \n",
      " 42  attack_cat         59807 non-null  object \n",
      " 43  label              59807 non-null  int64  \n",
      "dtypes: float64(11), int64(29), object(4)\n",
      "memory usage: 20.1+ MB\n"
     ]
    }
   ],
   "source": [
    "test1.info()"
   ]
  },
  {
   "cell_type": "code",
   "execution_count": 207,
   "metadata": {},
   "outputs": [
    {
     "name": "stdout",
     "output_type": "stream",
     "text": [
      "<class 'pandas.core.frame.DataFrame'>\n",
      "RangeIndex: 58021 entries, 0 to 58020\n",
      "Data columns (total 44 columns):\n",
      " #   Column             Non-Null Count  Dtype  \n",
      "---  ------             --------------  -----  \n",
      " 0   dur                58021 non-null  float64\n",
      " 1   proto              58021 non-null  object \n",
      " 2   service            58021 non-null  object \n",
      " 3   state              58021 non-null  object \n",
      " 4   spkts              58021 non-null  int64  \n",
      " 5   dpkts              58021 non-null  int64  \n",
      " 6   sbytes             58021 non-null  int64  \n",
      " 7   dbytes             58021 non-null  int64  \n",
      " 8   rate               58021 non-null  float64\n",
      " 9   sttl               58021 non-null  int64  \n",
      " 10  dttl               58021 non-null  int64  \n",
      " 11  sload              58021 non-null  float64\n",
      " 12  dload              58021 non-null  float64\n",
      " 13  sloss              58021 non-null  int64  \n",
      " 14  dloss              58021 non-null  int64  \n",
      " 15  sinpkt             58021 non-null  float64\n",
      " 16  dinpkt             58021 non-null  float64\n",
      " 17  sjit               58021 non-null  float64\n",
      " 18  djit               58021 non-null  float64\n",
      " 19  swin               58021 non-null  int64  \n",
      " 20  stcpb              58021 non-null  int64  \n",
      " 21  dtcpb              58021 non-null  int64  \n",
      " 22  dwin               58021 non-null  int64  \n",
      " 23  tcprtt             58021 non-null  float64\n",
      " 24  synack             58021 non-null  float64\n",
      " 25  ackdat             58021 non-null  float64\n",
      " 26  smean              58021 non-null  int64  \n",
      " 27  dmean              58021 non-null  int64  \n",
      " 28  trans_depth        58021 non-null  int64  \n",
      " 29  response_body_len  58021 non-null  int64  \n",
      " 30  ct_srv_src         58021 non-null  int64  \n",
      " 31  ct_state_ttl       58021 non-null  int64  \n",
      " 32  ct_dst_ltm         58021 non-null  int64  \n",
      " 33  ct_src_dport_ltm   58021 non-null  int64  \n",
      " 34  ct_dst_sport_ltm   58021 non-null  int64  \n",
      " 35  ct_dst_src_ltm     58021 non-null  int64  \n",
      " 36  is_ftp_login       58021 non-null  int64  \n",
      " 37  ct_ftp_cmd         58021 non-null  int64  \n",
      " 38  ct_flw_http_mthd   58021 non-null  int64  \n",
      " 39  ct_src_ltm         58021 non-null  int64  \n",
      " 40  ct_srv_dst         58021 non-null  int64  \n",
      " 41  is_sm_ips_ports    58021 non-null  int64  \n",
      " 42  attack_cat         58021 non-null  object \n",
      " 43  label              58021 non-null  int64  \n",
      "dtypes: float64(11), int64(29), object(4)\n",
      "memory usage: 19.5+ MB\n"
     ]
    }
   ],
   "source": [
    "test2.info()"
   ]
  },
  {
   "cell_type": "code",
   "execution_count": 208,
   "metadata": {},
   "outputs": [
    {
     "name": "stdout",
     "output_type": "stream",
     "text": [
      "<class 'pandas.core.frame.DataFrame'>\n",
      "RangeIndex: 59807 entries, 0 to 59806\n",
      "Data columns (total 39 columns):\n",
      " #   Column             Non-Null Count  Dtype  \n",
      "---  ------             --------------  -----  \n",
      " 0   dur                59807 non-null  float64\n",
      " 1   proto              59807 non-null  object \n",
      " 2   service            59807 non-null  object \n",
      " 3   state              59807 non-null  object \n",
      " 4   spkts              59807 non-null  int64  \n",
      " 5   dpkts              59807 non-null  int64  \n",
      " 6   sbytes             59807 non-null  int64  \n",
      " 7   dbytes             59807 non-null  int64  \n",
      " 8   rate               59807 non-null  float64\n",
      " 9   sttl               59807 non-null  int64  \n",
      " 10  dttl               59807 non-null  int64  \n",
      " 11  sloss              59807 non-null  int64  \n",
      " 12  dloss              59807 non-null  int64  \n",
      " 13  sinpkt             59807 non-null  float64\n",
      " 14  dinpkt             59807 non-null  float64\n",
      " 15  sjit               59807 non-null  float64\n",
      " 16  djit               59807 non-null  float64\n",
      " 17  swin               59807 non-null  int64  \n",
      " 18  stcpb              59807 non-null  int64  \n",
      " 19  dtcpb              59807 non-null  int64  \n",
      " 20  dwin               59807 non-null  int64  \n",
      " 21  synack             59807 non-null  float64\n",
      " 22  ackdat             59807 non-null  float64\n",
      " 23  smean              59807 non-null  int64  \n",
      " 24  dmean              59807 non-null  int64  \n",
      " 25  trans_depth        59807 non-null  int64  \n",
      " 26  response_body_len  59807 non-null  int64  \n",
      " 27  ct_srv_src         59807 non-null  int64  \n",
      " 28  ct_state_ttl       59807 non-null  int64  \n",
      " 29  ct_dst_ltm         59807 non-null  int64  \n",
      " 30  ct_src_dport_ltm   59807 non-null  int64  \n",
      " 31  ct_dst_sport_ltm   59807 non-null  int64  \n",
      " 32  ct_dst_src_ltm     59807 non-null  int64  \n",
      " 33  ct_ftp_cmd         59807 non-null  int64  \n",
      " 34  ct_flw_http_mthd   59807 non-null  int64  \n",
      " 35  ct_src_ltm         59807 non-null  int64  \n",
      " 36  ct_srv_dst         59807 non-null  int64  \n",
      " 37  is_sm_ips_ports    59807 non-null  int64  \n",
      " 38  label              59807 non-null  int64  \n",
      "dtypes: float64(8), int64(28), object(3)\n",
      "memory usage: 17.8+ MB\n"
     ]
    }
   ],
   "source": [
    "test1 = test1.drop(columns= drop_column, errors ='ignore')\n",
    "test1.info()"
   ]
  },
  {
   "cell_type": "code",
   "execution_count": 209,
   "metadata": {},
   "outputs": [
    {
     "name": "stdout",
     "output_type": "stream",
     "text": [
      "<class 'pandas.core.frame.DataFrame'>\n",
      "RangeIndex: 59807 entries, 0 to 59806\n",
      "Columns: 191 entries, dur to state_no\n",
      "dtypes: float64(189), int64(2)\n",
      "memory usage: 87.2 MB\n"
     ]
    }
   ],
   "source": [
    "#test1 data transformation to the same format as training data\n",
    "#feature selection\n",
    "test1 = test1.drop(columns= drop_column, errors ='ignore')\n",
    "#scaling\n",
    "test1.loc[:, ~df.columns.isin(categorical_columns)]= scaler.transform(test1.loc[:, ~test1.columns.isin(categorical_columns)])\n",
    "#one-hot encode\n",
    "one_hot_encoded_t1 = encoder.transform(test1[categorical_columns])\n",
    "one_hot_t1 = pd.DataFrame(one_hot_encoded_t1, columns=encoder.get_feature_names_out(categorical_columns))\n",
    "test1_encoded = pd.concat([test1, one_hot_t1], axis=1)\n",
    "test1_encoded = test1_encoded.drop(categorical_columns, axis=1)\n",
    "test1_encoded.info()"
   ]
  },
  {
   "cell_type": "code",
   "execution_count": 210,
   "metadata": {},
   "outputs": [
    {
     "name": "stdout",
     "output_type": "stream",
     "text": [
      "<class 'pandas.core.frame.DataFrame'>\n",
      "RangeIndex: 58021 entries, 0 to 58020\n",
      "Columns: 191 entries, dur to state_no\n",
      "dtypes: float64(189), int64(2)\n",
      "memory usage: 84.5 MB\n"
     ]
    }
   ],
   "source": [
    "#test2 data transformation to the same format as training data\n",
    "#feature selection\n",
    "test2 = test2.drop(columns= drop_column, errors ='ignore')\n",
    "#one-hot encode\n",
    "test2.loc[:, ~df.columns.isin(categorical_columns)]= scaler.transform(test2.loc[:, ~test2.columns.isin(categorical_columns)])\n",
    "\n",
    "one_hot_encoded_t2 = encoder.transform(test2[categorical_columns])\n",
    "one_hot_t2 = pd.DataFrame(one_hot_encoded_t2, columns=encoder.get_feature_names_out(categorical_columns))\n",
    "test2_encoded = pd.concat([test2, one_hot_t2], axis=1)\n",
    "test2_encoded = test2_encoded.drop(categorical_columns, axis=1)\n",
    "test2_encoded.info()"
   ]
  },
  {
   "cell_type": "code",
   "execution_count": 211,
   "metadata": {},
   "outputs": [],
   "source": [
    "y_test1 = test1_encoded.label\n",
    "X_test1 = test1_encoded.loc[:,test1_encoded.columns != \"label\"]\n",
    "y_test2 = test2_encoded.label\n",
    "X_test2 = test2_encoded.loc[:,test2_encoded.columns != \"label\"]"
   ]
  },
  {
   "cell_type": "markdown",
   "metadata": {},
   "source": [
    "# Test case evaluation"
   ]
  },
  {
   "cell_type": "markdown",
   "metadata": {},
   "source": [
    "## knn"
   ]
  },
  {
   "cell_type": "code",
   "execution_count": 212,
   "metadata": {},
   "outputs": [
    {
     "name": "stdout",
     "output_type": "stream",
     "text": [
      "[[ 9516 12769]\n",
      " [  246 37276]]\n",
      "              precision    recall  f1-score   support\n",
      "\n",
      "           0       0.97      0.43      0.59     22285\n",
      "           1       0.74      0.99      0.85     37522\n",
      "\n",
      "    accuracy                           0.78     59807\n",
      "   macro avg       0.86      0.71      0.72     59807\n",
      "weighted avg       0.83      0.78      0.76     59807\n",
      "\n"
     ]
    }
   ],
   "source": [
    "y_pred1_knn5 = knn5.predict(X_test1)\n",
    "print(confusion_matrix(y_test1, y_pred1_knn5))\n",
    "print(classification_report(y_test1, y_pred1_knn5))"
   ]
  },
  {
   "cell_type": "code",
   "execution_count": 213,
   "metadata": {},
   "outputs": [
    {
     "name": "stdout",
     "output_type": "stream",
     "text": [
      "[[12642  6079]\n",
      " [  222 39078]]\n",
      "              precision    recall  f1-score   support\n",
      "\n",
      "           0       0.98      0.68      0.80     18721\n",
      "           1       0.87      0.99      0.93     39300\n",
      "\n",
      "    accuracy                           0.89     58021\n",
      "   macro avg       0.92      0.83      0.86     58021\n",
      "weighted avg       0.90      0.89      0.89     58021\n",
      "\n"
     ]
    }
   ],
   "source": [
    "y_pred2_knn5 = knn5.predict(X_test2)\n",
    "print(confusion_matrix(y_test2, y_pred2_knn5))\n",
    "print(classification_report(y_test2, y_pred2_knn5))"
   ]
  },
  {
   "cell_type": "markdown",
   "metadata": {},
   "source": [
    "## Naive Bayes"
   ]
  },
  {
   "cell_type": "code",
   "execution_count": 214,
   "metadata": {},
   "outputs": [
    {
     "name": "stdout",
     "output_type": "stream",
     "text": [
      "[[21793   492]\n",
      " [31213  6309]]\n",
      "              precision    recall  f1-score   support\n",
      "\n",
      "           0       0.41      0.98      0.58     22285\n",
      "           1       0.93      0.17      0.28     37522\n",
      "\n",
      "    accuracy                           0.47     59807\n",
      "   macro avg       0.67      0.57      0.43     59807\n",
      "weighted avg       0.74      0.47      0.39     59807\n",
      "\n"
     ]
    }
   ],
   "source": [
    "y_pred1_nb = nb.predict(X_test1)\n",
    "print(confusion_matrix(y_test1, y_pred1_nb))\n",
    "print(classification_report(y_test1, y_pred1_nb))"
   ]
  },
  {
   "cell_type": "code",
   "execution_count": 215,
   "metadata": {},
   "outputs": [
    {
     "name": "stdout",
     "output_type": "stream",
     "text": [
      "[[18488   233]\n",
      " [33350  5950]]\n",
      "              precision    recall  f1-score   support\n",
      "\n",
      "           0       0.36      0.99      0.52     18721\n",
      "           1       0.96      0.15      0.26     39300\n",
      "\n",
      "    accuracy                           0.42     58021\n",
      "   macro avg       0.66      0.57      0.39     58021\n",
      "weighted avg       0.77      0.42      0.35     58021\n",
      "\n"
     ]
    }
   ],
   "source": [
    "y_pred2_nb = nb.predict(X_test2)\n",
    "print(confusion_matrix(y_test2, y_pred2_nb))\n",
    "print(classification_report(y_test2, y_pred2_nb))"
   ]
  },
  {
   "cell_type": "markdown",
   "metadata": {},
   "source": [
    "## Decision Tress"
   ]
  },
  {
   "cell_type": "code",
   "execution_count": 216,
   "metadata": {},
   "outputs": [
    {
     "name": "stdout",
     "output_type": "stream",
     "text": [
      "[[ 9051 13234]\n",
      " [  380 37142]]\n",
      "              precision    recall  f1-score   support\n",
      "\n",
      "           0       0.96      0.41      0.57     22285\n",
      "           1       0.74      0.99      0.85     37522\n",
      "\n",
      "    accuracy                           0.77     59807\n",
      "   macro avg       0.85      0.70      0.71     59807\n",
      "weighted avg       0.82      0.77      0.74     59807\n",
      "\n"
     ]
    }
   ],
   "source": [
    "y_pred1_btree = btree.predict(X_test1)\n",
    "print(confusion_matrix(y_test1, y_pred1_btree))\n",
    "print(classification_report(y_test1, y_pred1_btree))"
   ]
  },
  {
   "cell_type": "code",
   "execution_count": 217,
   "metadata": {},
   "outputs": [
    {
     "name": "stdout",
     "output_type": "stream",
     "text": [
      "[[12389  6332]\n",
      " [  358 38942]]\n",
      "              precision    recall  f1-score   support\n",
      "\n",
      "           0       0.97      0.66      0.79     18721\n",
      "           1       0.86      0.99      0.92     39300\n",
      "\n",
      "    accuracy                           0.88     58021\n",
      "   macro avg       0.92      0.83      0.85     58021\n",
      "weighted avg       0.90      0.88      0.88     58021\n",
      "\n"
     ]
    }
   ],
   "source": [
    "y_pred2_btree = btree.predict(X_test2)\n",
    "print(confusion_matrix(y_test2, y_pred2_btree))\n",
    "print(classification_report(y_test2, y_pred2_btree))"
   ]
  },
  {
   "cell_type": "markdown",
   "metadata": {},
   "source": [
    "## export csv"
   ]
  },
  {
   "cell_type": "code",
   "execution_count": 223,
   "metadata": {},
   "outputs": [],
   "source": [
    "test1_pred = {\"ID\":range(len(y_pred1_knn5)),\n",
    "              \"Predict1\":y_pred1_knn5,\n",
    "              \"Predict2\":y_pred1_btree}\n",
    "test1_pred_df = pd.DataFrame(test1_pred)\n",
    "\n",
    "test1_pred_df.to_csv('Predict1.csv', index=False)\n"
   ]
  },
  {
   "cell_type": "code",
   "execution_count": 224,
   "metadata": {},
   "outputs": [],
   "source": [
    "test2_pred = {\"ID\":range(len(y_pred2_knn5)),\n",
    "              \"Predict1\":y_pred2_knn5,\n",
    "              \"Predict2\":y_pred2_btree}\n",
    "test2_pred_df = pd.DataFrame(test2_pred)\n",
    "\n",
    "test2_pred_df.to_csv('Predict2.csv', index=False)"
   ]
  }
 ],
 "metadata": {
  "kernelspec": {
   "display_name": "base",
   "language": "python",
   "name": "python3"
  },
  "language_info": {
   "codemirror_mode": {
    "name": "ipython",
    "version": 3
   },
   "file_extension": ".py",
   "mimetype": "text/x-python",
   "name": "python",
   "nbconvert_exporter": "python",
   "pygments_lexer": "ipython3",
   "version": "3.11.7"
  }
 },
 "nbformat": 4,
 "nbformat_minor": 2
}
